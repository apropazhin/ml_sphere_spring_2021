{
 "cells": [
  {
   "cell_type": "markdown",
   "metadata": {},
   "source": [
    "# Алгоритмы интеллектуальной обработки больших объемов данных\n",
    "## Домашнее задание №2: Линейные модели\n"
   ]
  },
  {
   "cell_type": "markdown",
   "metadata": {},
   "source": [
    "###### <hr\\>\n",
    "**Общая информация**\n",
    "\n",
    "**Срок сдачи:** 05 апреля 18:00 Сдача **очная** на онлайн занятии. <br\\>\n",
    "\n",
    "\n",
    "Используйте данный Ipython Notebook при оформлении домашнего задания.\n",
    "\n",
    "Присылать ДЗ необходимо в виде ссылки на свой github репозиторий на почту ml1.sphere@mail.ru с указанием темы в следующем формате:\n",
    "\n",
    "[ML0920, Задание 2] Фамилия Имя.\n",
    "\n",
    "\n",
    "\n",
    "**Штрафные баллы:**\n",
    "\n",
    "1. Невыполнение PEP8 -1 балл\n",
    "2. Отсутствие фамилии в имени скрипта (скрипт должен называться по аналогии со stroykova_hw2.ipynb) -1 балл\n",
    "3. Все строчки должны быть выполнены. Нужно, чтобы output команды можно было увидеть уже в git'е. В противном случае -1 балл\n",
    "4. При оформлении ДЗ нужно пользоваться данным файлом в качестве шаблона. Не нужно удалять и видоизменять написанный код и текст, если явно не указана такая возможность. В противном случае -1 балл\n",
    "<hr\\>"
   ]
  },
  {
   "cell_type": "code",
   "execution_count": 1,
   "metadata": {},
   "outputs": [],
   "source": [
    "import pandas as pd\n",
    "import numpy as np\n",
    "import matplotlib.pyplot as plt\n",
    "\n",
    "%matplotlib inline\n",
    "\n",
    "plt.style.use('ggplot')\n",
    "plt.rcParams['figure.figsize'] = (12, 5)"
   ]
  },
  {
   "cell_type": "markdown",
   "metadata": {},
   "source": [
    "Здравствуйте, уважаемые студенты! \n",
    "\n",
    "В этом задании мы будем реализовать линейные модели. Необходимо реализовать линейную и логистическую регрессии с L2 регуляризацией"
   ]
  },
  {
   "cell_type": "markdown",
   "metadata": {},
   "source": [
    "# Теоретическое введение\n",
    "\n"
   ]
  },
  {
   "cell_type": "markdown",
   "metadata": {},
   "source": [
    "Линейная регрессия решает задачу регрессии и оптимизирует функцию потерь MSE \n",
    "\n",
    "$$L(w) =  \\frac{1}{N}\\left[\\sum_i (y_i - a_i) ^ 2 \\right], $$ где $y_i$ $-$ целевая функция,  $a_i = a(x_i) =  \\langle\\,x_i,w\\rangle ,$ $-$ предсказание алгоритма на объекте $x_i$, $w$ $-$ вектор весов (размерности $D$), $x_i$ $-$ вектор признаков (такой же размерности $D$).\n",
    "\n",
    "Не забываем, что здесь и далее  мы считаем, что в $x_i$ есть тождественный вектор единиц, ему соответствует вес $w_0$.\n"
   ]
  },
  {
   "cell_type": "markdown",
   "metadata": {},
   "source": [
    "Логистическая регрессия является линейным классификатором, который оптимизирует так называемый функционал log loss:"
   ]
  },
  {
   "cell_type": "markdown",
   "metadata": {},
   "source": [
    "$$L(w) = - \\frac{1}{N}\\left[\\sum_i y_i \\log a_i + ( 1 - y_i) \\log (1 - a_i) \\right],$$\n",
    "где  $y_i  \\in \\{0,1\\}$ $-$ метка класса, $a_i$ $-$ предсказание алгоритма на объекте $x_i$. Модель пытается предсказать апостериорую вероятность объекта принадлежать к классу \"1\":\n",
    "$$ p(y_i = 1 | x_i) = a(x_i) =  \\sigma( \\langle\\,x_i,w\\rangle ),$$\n",
    "$w$ $-$ вектор весов (размерности $D$), $x_i$ $-$ вектор признаков (такой же размерности $D$).\n",
    "\n",
    "Функция $\\sigma(x)$ $-$ нелинейная функция, пероводящее скалярное произведение объекта на веса в число $\\in (0,1)$ (мы же моделируем вероятность все-таки!)\n",
    "\n",
    "$$\\sigma(x) = \\frac{1}{1 + \\exp(-x)}$$\n",
    "\n",
    "Если внимательно посмотреть на функцию потерь, то можно заметить, что в зависимости от правильного ответа алгоритм штрафуется или функцией $-\\log a_i$, или функцией $-\\log (1 - a_i)$.\n",
    "\n"
   ]
  },
  {
   "cell_type": "markdown",
   "metadata": {},
   "source": [
    "Часто для решения проблем, которые так или иначе связаны с проблемой переобучения, в функционал качества добавляют слагаемое, которое называют ***регуляризацией***. Итоговый функционал для линейной регрессии тогда принимает вид:\n",
    "\n",
    "$$L(w) =  \\frac{1}{N}\\left[\\sum_i (y_i - a_i) ^ 2 \\right] + \\frac{1}{C}R(w) $$\n",
    "\n",
    "Для логистической: \n",
    "$$L(w) = - \\frac{1}{N}\\left[\\sum_i y_i \\log a_i + ( 1 - y_i) \\log (1 - a_i) \\right] +  \\frac{1}{C}R(w)$$\n",
    "\n",
    "Самое понятие регуляризации введено основателем ВМК академиком Тихоновым https://ru.wikipedia.org/wiki/Метод_регуляризации_Тихонова\n",
    "\n",
    "Идейно методика регуляризации заключается в следующем $-$ мы рассматриваем некорректно поставленную задачу (что это такое можно найти в интернете), для того чтобы сузить набор различных вариантов (лучшие из которых будут являться переобучением ) мы вводим дополнительные ограничения на множество искомых решений. На лекции Вы уже рассмотрели два варианта регуляризации.\n",
    "\n",
    "$L1$ регуляризация:\n",
    "$$R(w) = \\sum_{j=1}^{D}|w_j|$$\n",
    "$L2$ регуляризация:\n",
    "$$R(w) =  \\sum_{j=1}^{D}w_j^2$$\n",
    "\n",
    "С их помощью мы ограничиваем модель в  возможности выбора каких угодно весов минимизирующих наш лосс, модель уже не сможет подстроиться под данные как ей угодно. \n",
    "\n",
    "Вам нужно добавить соотвествущую Вашему варианту $L2$ регуляризацию.\n",
    "\n",
    "И так, мы поняли, какую функцию ошибки будем минимизировать, разобрались, как получить предсказания по объекту и обученным весам. Осталось разобраться, как получить оптимальные веса. Для этого нужно выбрать какой-то метод оптимизации.\n",
    "\n"
   ]
  },
  {
   "cell_type": "markdown",
   "metadata": {},
   "source": [
    "Градиентный спуск является самым популярным алгоритмом обучения линейных моделей. В этом задании Вам предложат реализовать стохастический градиентный спуск или  мини-батч градиентный спуск (мини-батч на русский язык довольно сложно перевести, многие переводят это как \"пакетный\", но мне не кажется этот перевод удачным). Далее нам потребуется определение **эпохи**.\n",
    "Эпохой в SGD и MB-GD называется один проход по **всем** объектам в обучающей выборки.\n",
    "* В SGD градиент расчитывается по одному случайному объекту. Сам алгоритм выглядит примерно так:\n",
    "        1) Перемешать выборку\n",
    "        2) Посчитать градиент функции потерь на одном объекте (далее один объект тоже будем называть батчем)\n",
    "        3) Сделать шаг спуска\n",
    "        4) Повторять 2) и 3) пока не пройдет максимальное число эпох.\n",
    "* В Mini Batch SGD - по подвыборке объектов. Сам алгоритм выглядит примерно так::\n",
    "        1) Перемешать выборку, выбрать размер мини-батча (от 1 до размера выборки)\n",
    "        2) Почитать градиент функции потерь по мини-батчу (не забыть поделить на  число объектов в мини-батче)\n",
    "        3) Сделать шаг спуска\n",
    "        4) Повторять 2) и 3) пока не пройдет максимальное число эпох.\n",
    "* Для отладки алгоритма реализуйте возможность  вывода средней ошибки на обучении модели по объектам (мини-батчам). После шага градиентного спуска посчитайте значение ошибки на объекте (или мини-батче), а затем усредните, например, по ста шагам. Если обучение проходит корректно, то мы должны увидеть, что каждые 100 шагов функция потерь уменьшается. \n",
    "* Правило останова - максимальное количество эпох\n",
    "    \n"
   ]
  },
  {
   "cell_type": "markdown",
   "metadata": {},
   "source": [
    "# Теоретические вопросы (2 балла)\n",
    "В этой части Вам будут предложены теоретичские вопросы и задачи по теме. Вы, конечно, можете списать их у своего товарища или найти решение в интернете, но учтите, что они обязательно войдут в теоретический коллоквиум. Лучше разобраться в теме сейчас и успешно ответить на коллоквиуме, чем списать, не разобравшись в материале, и быть терзаемым совестью. \n",
    "\n",
    "\n",
    "Формулы надо оформлять в формате **LaTeX**."
   ]
  },
  {
   "cell_type": "markdown",
   "metadata": {},
   "source": [
    "Задача 1. Градиент для линейной регрессии.\n",
    "* Выпишите формулу обновления весов для линейной регрессии с L2 регуляризацией для мини-батч градиентого спуска размера $n$:\n",
    "\n",
    "$$ w_{new} = w_{old} - ... $$\n",
    "\n",
    " Отнеситесь к этому пункту максимально серьезно, это Вам нужно будет реализовать в задании.\n",
    " \n",
    "Проанализруйте итоговую формулу градиента - как  интуитивно можно  описать, чему равен градиент?"
   ]
  },
  {
   "cell_type": "markdown",
   "metadata": {},
   "source": [
    "***Решение***\n",
    "\n",
    "$$ X - (n \\times k), y - (n \\times 1), w - (k \\times 1)$$\n",
    "\n",
    "$$L(w) =  \\frac{1}{n}\\left[\\sum_{i=1}^n (y_i - \\langle\\,x_i,w\\rangle) ^ 2 \\right] + \\frac{1}{C}\\sum_{j=1}^{n}w_j^2 = \\frac{1}{n}(y - Xw)^T(y - Xw) + \\frac{1}{C} w^Tw $$\n",
    "\n",
    "$$ \\nabla_wL(w) = \\frac{1}{n}\\left(2X^TXw - 2X^Ty\\right) + \\frac{2}{C} w$$\n",
    "\n",
    "\n",
    "$$ w_{new} = w_{old} - \\alpha \\nabla_wL(w_{old}) = w_{old} - 2\\alpha \\left(\\frac{1}{n}X^T(Xw_{old} - y) + \\frac{1}{C}w_{old}\\right) , \\alpha - \\text{learning rate}$$\n",
    "\n",
    "\n",
    "Интуитивно, градиент - это вектор признаков умноженный на ошибку"
   ]
  },
  {
   "cell_type": "markdown",
   "metadata": {},
   "source": [
    "Задача 2. Градиент для логистической регрессии.\n",
    "* Выпишите формулу обновления весов для логистической регрессии с L2 регуляризацией  для мини-батч градиентого спуска размера $n$:\n",
    "\n",
    "$$ w_{new} = w_{old} - ... $$\n",
    "\n",
    " Отнеситесь к этому пункту максимально серьезно, это Вам нужно будет реализовать в задании.\n",
    " \n",
    "Проанализруйте итоговую формулу градиента - как  интуитивно можно  описать, чему равен градиент? Как соотносится этот градиент с градиентом, возникающий в задаче линейной регрессии?\n",
    "\n",
    "Подсказка: Вам градиент, которой получается если “в лоб” продифференцировать,  надо немного преобразовать.\n",
    "Надо подставить, что $1 - \\sigma(w,x) $ это  $1 - a(x_i)$, а  $-\\sigma(w,x)$ это $0 - a(x_i)$.  Тогда получится свести к одной красивой формуле с линейной регрессией, которую программировать будет намного проще."
   ]
  },
  {
   "cell_type": "markdown",
   "metadata": {},
   "source": [
    "***Решение***\n",
    "\n",
    "$$ X - (n \\times k), y - (n \\times 1), w - (k \\times 1)$$\n",
    "\n",
    "$$L(w) =  -\\frac{1}{n}\\left[\\sum_{i=1}^n y_i \\log \\sigma( \\langle\\,x_i,w\\rangle ) + ( 1 - y_i) \\log (1 - \\sigma( \\langle\\,x_i,w\\rangle )) \\right] + \\frac{1}{C}\\sum_{j=1}^{n}w_j^2$$\n",
    "\n",
    "$$ \\nabla_wL(w) = \\frac{1}{n}X^T\\left(\\sigma( Xw ) - y\\right) + \\frac{2}{C} w$$\n",
    "\n",
    "\n",
    "$$ w_{new} = w_{old} - \\alpha \\nabla_wL(w_{old}) = w_{old} - \\alpha \\left(\\frac{1}{n}X^T\\left(\\sigma( Xw_{old}) - y\\right) + \\frac{2}{C}w_{old}\\right) , \\alpha - \\text{learning rate}$$\n",
    "\n",
    "\n",
    "Интуитивно, как и в случае линейной регрессии, градиент - это вектор признаков умноженный на ошибку.\n",
    "\n",
    "Формулы градиентов логистической и линейной регрессий очень похожи между собой, отличия только в коэффициенте и в том, что в логистической регрессии берется сигмоида от $Xw$. Но мы можем получить единую формулу, заменив $Xw$ на $a(x, w)$ в линейной регрессии и $\\sigma(Xw)$ на $a(x, w)$ в логистической:\n",
    "$$ \\nabla_wL(w) = \\frac{1}{n}X^T\\left(a(x, w) - y)\\right) $$"
   ]
  },
  {
   "cell_type": "markdown",
   "metadata": {},
   "source": [
    "Задача 3. Точное решение линейной регрессии\n",
    "\n",
    "На лекции было показано, что точное решение линейной регрессии имеет вид $w = (X^TX)^{-1}X^TY $. \n",
    "* Покажите, что это действительно является точкой минимума в случае, если матрица X имеет строк не меньше, чем столбцов и имеет полный ранг. Подсказка: посчитайте Гессиан и покажите, что в этом случае он положительно определен. \n",
    "* Выпишите точное решение для модели с $L2$ регуляризацией. Как L2 регуляризация помогает с точным решением где матрица X имеет линейно зависимые признаки?"
   ]
  },
  {
   "cell_type": "markdown",
   "metadata": {},
   "source": [
    "***Решение***\n",
    "\n",
    "$$ \\nabla_wL(w) = \\frac{1}{n}\\left(2X^TXw - 2X^Ty\\right) + \\frac{2}{C} w$$\n",
    "$$ \\Delta_wL(w) = \\frac{2}{n}X^TX $$\n",
    "\n",
    "Покажем, что гессиан положительно определен:\n",
    "1) $X^TX$ неотрицательно определен, т.к. для $\\forall a: aX^TXa^T = (Xa^T)^T(Xa^T) = \\|Xa^T\\|_2 \\geq 0$ \\\n",
    "2) Т.к. ранг полный, то $Xa^T = 0 \\Leftrightarrow x = 0$, то есть для $\\forall a \\neq 0$   $aX^TXa^T > 0$\n",
    "\n",
    "$\\Rightarrow$ выполнено достаточное условие минимума, то есть $w$ - точка минимума\n",
    "\n",
    "Точное решение для модели с  $L2$  регуляризацией: \n",
    "$$\\nabla_wL(w) = 0 \\Rightarrow w = \\left(X^TX + \\alpha E\\right)^{-1}X^Ty$$\n",
    "\n",
    "Из-за $L2$  регуляризации к каждой строке на место диагонального элемента прибавляется коэффициент $\\alpha$, что позволяет увеличить собственные значения матрицы, т.к. в случае линейно зависимых признаков собственные значения матрицы $X^TX$ будут почти равны $0$."
   ]
  },
  {
   "cell_type": "markdown",
   "metadata": {},
   "source": [
    "Задача 4.  Предсказываем вероятности.\n",
    "\n",
    "Когда говорят о логистической регрессии, произносят фразу, что она \"предсказывает вероятности положительного класса\". Давайте разберемся, что же за этим стоит. Посчитаем математическое ожидание функции потерь и проверим, что предсказание алгоритма, оптимизирующее это мат. ожидание, будет являться вероятностью положительного класса. \n",
    "\n",
    "И так, функция потерь на объекте $x_i$, который имеет метку $y_i \\in \\{0,1\\}$  для предсказания $a(x_i)$ равна:\n",
    "$$L(y_i, b) =-[y_i == 1] \\log a(x_i)  - [y_i == 0] \\log(1 - a(x_i)) $$\n",
    "\n",
    "Где $[]$ означает индикатор $-$ он равен единице, если значение внутри него истинно, иначе он равен нулю. Тогда мат. ожидание при условии конкретного $x_i$  по определение мат. ожидания дискретной случайной величины:\n",
    "$$E(L | x_i) = -p(y_i = 1 |x_i ) \\log a(x_i)  - p(y_i = 0 | x_i) \\log( 1 - a(x_i))$$\n",
    "* Докажите, что значение $a(x_i)$, минимизирующее данное мат. ожидание, в точности равно $p(y_i = 1 |x_i)$, то есть равно вероятности положительного класса.\n",
    "\n",
    "Подсказка: возможно, придется воспользоваться, что  $p(y_i = 1 | x_i) + p(y_i = 0 | x_i) = 1$"
   ]
  },
  {
   "cell_type": "markdown",
   "metadata": {},
   "source": [
    "***Решение***\n",
    "$$\\frac{\\partial E(L | x_i)}{\\partial a(x_i)} = - \\frac{p(y_i = 1 |x_i )}{a(x_i)}  + \\frac{p(y_i = 0 | x_i)}{( 1 - a(x_i))} = 0$$\n",
    "\n",
    "\n",
    "$$ p(y_i = 1 |x_i ) = a(x_i)(p(y_i = 0 | x_i) + p(y_i = 1 |x_i )) $$\n",
    "\n",
    "\n",
    "$$ a(x_i) = p(y_i = 1 |x_i ) - \\text{точка экстремума} $$\n",
    "\n",
    "Покажем, что она является минимумом:\n",
    "\n",
    "$$\\frac{\\partial^2E(L | x_i)}{\\partial a(x_i)^2} = \\frac{p(y_i = 1 |x_i )}{a(x_i)^2} + \\frac{p(y_i = 0 | x_i)}{( 1 - a(x_i))^2} > 0$$ \n",
    "\n",
    "$\\Rightarrow a(x_i) = p(y_i = 1 |x_i)$ - минимум"
   ]
  },
  {
   "cell_type": "markdown",
   "metadata": {},
   "source": [
    "Задача 5.  Смысл регуляризации.\n",
    "\n",
    "Нужно ли в L1/L2 регуляризации использовать свободный член $w_0$ (который не умножается ни на какой признак)?\n",
    "\n",
    "Подсказка: подумайте, для чего мы вводим $w_0$"
   ]
  },
  {
   "cell_type": "markdown",
   "metadata": {},
   "source": [
    "***Решение***\n",
    "\n",
    "$w_0$ вводится для того, чтобы определить сдвиг разделяющей гиперплоскости относительно начала координат. Не имеет смысла штрафовать модель за это смещение."
   ]
  },
  {
   "cell_type": "markdown",
   "metadata": {},
   "source": [
    "#  Реализация линейной модели (4 балла)"
   ]
  },
  {
   "cell_type": "markdown",
   "metadata": {},
   "source": [
    "## Зачем нужны батчи?\n"
   ]
  },
  {
   "cell_type": "markdown",
   "metadata": {},
   "source": [
    "Как Вы могли заметить из теоретического введения, что в случае SGD, что в случа mini-batch GD,  на каждой итерации обновление весов  происходит только по небольшой части данных (1 пример в случае SGD, batch примеров в случае mini-batch). То есть для каждой итерации нам *** не нужна вся выборка***. Мы можем просто итерироваться по выборке, беря батч нужного размера (далее 1 объект тоже будем называть батчом).\n",
    "\n",
    "Легко заметить, что в этом случае нам не нужно загружать все данные в оперативную память, достаточно просто считать батч с диска, обновить веса, считать диска другой батч и так далее. В целях упрощения домашней работы, прямо с диска  мы считывать не будем, будем работать с обычными numpy array. \n",
    "\n",
    "\n",
    "\n"
   ]
  },
  {
   "cell_type": "markdown",
   "metadata": {},
   "source": [
    "## Немножко про генераторы в Python\n",
    "\n"
   ]
  },
  {
   "cell_type": "markdown",
   "metadata": {},
   "source": [
    "Идея считывания данных кусками удачно ложится на так называемые ***генераторы*** из языка Python. В данной работе Вам предлагается не только разобраться с логистической регрессией, но  и познакомиться с таким важным элементом языка.  При желании Вы можете убрать весь код, связанный с генераторами, и реализовать логистическую регрессию и без них, ***штрафоваться это никак не будет***. Главное, чтобы сама модель была реализована правильно, и все пункты были выполнены. \n",
    "\n",
    "Подробнее можно почитать вот тут https://anandology.com/python-practice-book/iterators.html\n"
   ]
  },
  {
   "cell_type": "markdown",
   "metadata": {},
   "source": [
    "К генератору стоит относиться просто как к функции, которая порождает не один объект, а целую последовательность объектов. Новое значение из последовательности генерируется с помощью ключевого слова ***yield***. Ниже Вы можете насладиться  генератором чисел Фибоначчи."
   ]
  },
  {
   "cell_type": "code",
   "execution_count": 2,
   "metadata": {},
   "outputs": [],
   "source": [
    "def fib(max_iter=4):\n",
    "    a, b = 0, 1\n",
    "    iter_num = 0\n",
    "    while 1:\n",
    "        yield a\n",
    "        a, b = b, a + b\n",
    "        iter_num += 1\n",
    "        if iter_num == max_iter:\n",
    "            break"
   ]
  },
  {
   "cell_type": "markdown",
   "metadata": {},
   "source": [
    "Вот так можно сгенерировать последовательность Фибоначчи. \n",
    "\n",
    "Заметьте, что к генераторам можно применять некоторые стандартные функции из Python, например enumerate."
   ]
  },
  {
   "cell_type": "code",
   "execution_count": 3,
   "metadata": {},
   "outputs": [
    {
     "name": "stdout",
     "output_type": "stream",
     "text": [
      "Fib num: 0 fib values: 0\n",
      "Fib num: 1 fib values: 1\n",
      "Fib num: 2 fib values: 1\n",
      "Fib num: 3 fib values: 2\n"
     ]
    }
   ],
   "source": [
    "new_generator = fib()\n",
    "for j, fib_val in enumerate(new_generator):\n",
    "    print(\"Fib num: \" + str(j) + \" fib values: \" + str(fib_val))"
   ]
  },
  {
   "cell_type": "markdown",
   "metadata": {},
   "source": [
    "Пересоздавая объект, можно сколько угодно раз генерировать заново последовательность. "
   ]
  },
  {
   "cell_type": "code",
   "execution_count": 4,
   "metadata": {},
   "outputs": [
    {
     "name": "stdout",
     "output_type": "stream",
     "text": [
      "Fib num: 0 fib values: 0\n",
      "Fib num: 1 fib values: 1\n",
      "Fib num: 2 fib values: 1\n",
      "Fib num: 3 fib values: 2\n",
      "Fib num: 0 fib values: 0\n",
      "Fib num: 1 fib values: 1\n",
      "Fib num: 2 fib values: 1\n",
      "Fib num: 3 fib values: 2\n",
      "Fib num: 0 fib values: 0\n",
      "Fib num: 1 fib values: 1\n",
      "Fib num: 2 fib values: 1\n",
      "Fib num: 3 fib values: 2\n"
     ]
    }
   ],
   "source": [
    "for i in range(0, 3):\n",
    "    new_generator = fib()\n",
    "    for j, fib_val in enumerate(new_generator):\n",
    "        print(\"Fib num: \" + str(j) + \" fib values: \" + str(fib_val))"
   ]
  },
  {
   "cell_type": "markdown",
   "metadata": {},
   "source": [
    "А вот так уже нельзя."
   ]
  },
  {
   "cell_type": "code",
   "execution_count": 5,
   "metadata": {},
   "outputs": [
    {
     "name": "stdout",
     "output_type": "stream",
     "text": [
      "Fib num: 0 fib values: 0\n",
      "Fib num: 1 fib values: 1\n",
      "Fib num: 2 fib values: 1\n",
      "Fib num: 3 fib values: 2\n"
     ]
    }
   ],
   "source": [
    "new_generator = fib()\n",
    "for i in range(0, 3):\n",
    "    for j, fib_val in enumerate(new_generator):\n",
    "        print(\"Fib num: \" + str(j) + \" fib values: \" + str(fib_val))"
   ]
  },
  {
   "cell_type": "markdown",
   "metadata": {},
   "source": [
    "Концепция крайне удобная для обучения  моделей $-$ у Вас есть некий источник данных, который Вам выдает их кусками, и Вам совершенно все равно откуда он их берет. Под ним может скрывать как массив в оперативной памяти, как файл на жестком диске, так и SQL база данных. Вы сами данные никуда не сохраняете, оперативную память экономите."
   ]
  },
  {
   "cell_type": "markdown",
   "metadata": {},
   "source": [
    "Если Вам понравилась идея с генераторами, то Вы можете реализовать свой, используя прототип batch_generator. В нем Вам нужно выдавать батчи признаков и ответов для каждой новой итерации спуска. Если не понравилась идея, то можете реализовывать SGD или mini-batch GD без генераторов."
   ]
  },
  {
   "cell_type": "code",
   "execution_count": 6,
   "metadata": {},
   "outputs": [],
   "source": [
    "def batch_generator(X, y, shuffle=True, batch_size=1):\n",
    "    \"\"\"\n",
    "    Гератор новых батчей для обучения\n",
    "    X          - матрица объекты-признаки\n",
    "    y_batch    - вектор ответов\n",
    "    shuffle    - нужно ли случайно перемешивать выборку\n",
    "    batch_size - размер батча ( 1 это SGD, > 1 mini-batch GD)\n",
    "    Генерирует подвыборку для итерации спуска (X_batch, y_batch)\n",
    "    \"\"\"\n",
    "\n",
    "    X_ = X[np.random.permutation(X.shape[0])] if shuffle else X\n",
    "    y_ = y[np.random.permutation(y.shape[0])] if shuffle else y\n",
    "    for i in range(0, X_.shape[0] // batch_size, batch_size):\n",
    "        X_batch = X_[i:i + batch_size]\n",
    "        y_batch = y_[i:i + batch_size]\n",
    "        yield (X_batch, y_batch)\n",
    "\n",
    "# Теперь можно сделать генератор по данным ()\n",
    "# my_batch_generator = batch_generator(X, y, shuffle=True, batch_size=1)"
   ]
  },
  {
   "cell_type": "code",
   "execution_count": 7,
   "metadata": {},
   "outputs": [],
   "source": [
    "# %%pycodestyle\n",
    "\n",
    "def sigmoid(x):\n",
    "    \"\"\"\n",
    "    Вычисляем значение сигмоида.\n",
    "    X - выход линейной модели\n",
    "    \"\"\"\n",
    "\n",
    "    sigm_value_x = 1 / (1 + np.exp(-x))\n",
    "    return sigm_value_x\n",
    "\n",
    "\n",
    "from sklearn.base import BaseEstimator, ClassifierMixin\n",
    "\n",
    "\n",
    "class MySGDClassifier(BaseEstimator, ClassifierMixin):\n",
    "\n",
    "    def __init__(self, batch_generator, C=1, alpha=0.01, max_epoch=10, model_type='lin_reg'):\n",
    "        \"\"\"\n",
    "        batch_generator -- функция генератор, которой будем создавать батчи\n",
    "        C - коэф. регуляризации\n",
    "        alpha - скорость спуска\n",
    "        max_epoch - максимальное количество эпох\n",
    "        model_type - тим модели, lin_reg или log_reg\n",
    "        \"\"\"\n",
    "\n",
    "        self.C = C\n",
    "        self.alpha = alpha\n",
    "        self.max_epoch = max_epoch\n",
    "        self.batch_generator = batch_generator\n",
    "        self.errors_log = {'iter': [], 'loss': []}\n",
    "        self.model_type = model_type\n",
    "\n",
    "    def calc_loss(self, X_batch, y_batch):\n",
    "        \"\"\"\n",
    "        Считаем функцию потерь по батчу \n",
    "        X_batch - матрица объекты-признаки по батчу\n",
    "        y_batch - вектор ответов по батчу\n",
    "        Не забудте тип модели (линейная или логистическая регрессия)!\n",
    "        \"\"\"\n",
    "        if self.model_type == 'lin_reg':\n",
    "            loss = np.mean((X_batch @ self.weights - y_batch) ** 2)\n",
    "        if self.model_type == 'log_reg':\n",
    "            p = sigmoid(X_batch @ self.weights)\n",
    "            if np.isclose(p, 0).any() or np.isclose(p, 1).any():\n",
    "                loss = np.inf\n",
    "                return loss\n",
    "            loss = -np.mean(y_batch * np.log(p) + (1 - y_batch) * np.log(1 - p))\n",
    "        loss += 1 / self.C * np.sum(self.weights[1:] ** 2)\n",
    "        return loss\n",
    "\n",
    "    def calc_loss_grad(self, X_batch, y_batch):\n",
    "        \"\"\"\n",
    "        Считаем  градиент функции потерь по батчу (то что Вы вывели в задании 1)\n",
    "        X_batch - матрица объекты-признаки по батчу\n",
    "        y_batch - вектор ответов по батчу\n",
    "        Не забудте тип модели (линейная или логистическая регрессия)!\n",
    "        \"\"\"\n",
    "        if self.model_type == 'lin_reg':\n",
    "            loss_grad = 2 * (X_batch.T @ (X_batch @ self.weights - y_batch)) / X_batch.shape[0]\n",
    "        if self.model_type == 'log_reg':\n",
    "            loss_grad = (X_batch.T @ (sigmoid(X_batch @ self.weights) - y_batch)) / X_batch.shape[0]\n",
    "        loss_grad[1:] += 2 / self.C * self.weights[1:]\n",
    "        return loss_grad\n",
    "\n",
    "    def update_weights(self, new_grad):\n",
    "        \"\"\"\n",
    "        Обновляем вектор весов\n",
    "        new_grad - градиент по батчу\n",
    "        \"\"\"\n",
    "\n",
    "        self.weights -= self.alpha * np.mean(new_grad, axis=1, keepdims=True)\n",
    "\n",
    "    def fit(self, X, y, batch_size=20):\n",
    "        '''\n",
    "        Обучение модели\n",
    "        X - матрица объекты-признаки\n",
    "        y - вектор ответов\n",
    "        '''\n",
    "\n",
    "        X = np.hstack((np.ones((X.shape[0], 1)), X))\n",
    "        # Нужно инициализровать случайно веса\n",
    "\n",
    "        self.weights = np.random.uniform(size=(X.shape[1], 1))\n",
    "        for n in range(0, self.max_epoch):\n",
    "            new_epoch_generator = self.batch_generator(X, y, batch_size=batch_size)\n",
    "            for batch_num, new_batch in enumerate(new_epoch_generator):\n",
    "                X_batch = new_batch[0]\n",
    "                y_batch = new_batch[1]\n",
    "                batch_grad = self.calc_loss_grad(X_batch, y_batch)\n",
    "                self.update_weights(batch_grad)\n",
    "                # Подумайте в каком месте стоит посчитать ошибку для отладки модели\n",
    "                # До градиентного шага или после\n",
    "                batch_loss = self.calc_loss(X_batch, y_batch)\n",
    "                self.errors_log['iter'].append(batch_num)\n",
    "                self.errors_log['loss'].append(batch_loss)\n",
    "\n",
    "        return self\n",
    "\n",
    "    def predict(self, X, threshold=0.5):\n",
    "        '''\n",
    "        Предсказание класса\n",
    "        X - матрица объекты-признаки\n",
    "        Не забудте тип модели (линейная или логистическая регрессия)!\n",
    "        '''\n",
    "\n",
    "        # Желательно здесь использовать матричные операции между X и весами, например, numpy.dot\n",
    "        X = np.hstack((np.ones((X.shape[0], 1)), X))\n",
    "        if self.model_type == 'lin_reg':\n",
    "            y_hat = X @ self.weights\n",
    "        if self.model_type == 'log_reg':\n",
    "            y_hat = sigmoid(X @ self.weights)\n",
    "        return (y_hat > threshold).astype(int)"
   ]
  },
  {
   "cell_type": "markdown",
   "metadata": {},
   "source": [
    "Запустите обе регрессии на синтетических данных. \n",
    "\n",
    "\n",
    "Выведите полученные веса и нарисуйте разделяющую границу между классами (используйте только первых два веса для первых двух признаков X[:,0], X[:,1] для отображения в 2d пространство ).  "
   ]
  },
  {
   "cell_type": "code",
   "execution_count": 8,
   "metadata": {},
   "outputs": [],
   "source": [
    "def plot_decision_boundary(clf):\n",
    "    ## Your code Here\n",
    "    w = clf.weights\n",
    "    print(f\"Model:{clf.model_type}\", *clf.weights)\n",
    "    x = np.arange(-4, 8)\n",
    "    plt.plot(x, -(w[0] + w[1] * x) / w[2])"
   ]
  },
  {
   "cell_type": "code",
   "execution_count": 9,
   "metadata": {},
   "outputs": [
    {
     "name": "stdout",
     "output_type": "stream",
     "text": [
      "Model:lin_reg [0.44396647] [-0.08019625] [0.1090647]\n",
      "Model:log_reg [0.0401682] [-0.00953394] [0.00928018]\n"
     ]
    },
    {
     "data": {
      "image/png": "[encoded data removed]",
      "text/plain": [
       "<Figure size 864x360 with 1 Axes>"
      ]
     },
     "metadata": {},
     "output_type": "display_data"
    }
   ],
   "source": [
    "np.random.seed(0)\n",
    "\n",
    "C1 = np.array([[0., -0.8], [1.5, 0.8]])\n",
    "C2 = np.array([[1., -0.7], [2., 0.7]])\n",
    "gauss1 = np.dot(np.random.randn(200, 2) + np.array([5, 3]), C1)\n",
    "gauss2 = np.dot(np.random.randn(200, 2) + np.array([1.5, 0]), C2)\n",
    "\n",
    "X = np.vstack([gauss1, gauss2])\n",
    "y = np.r_[np.ones(200), np.zeros(200)]\n",
    "\n",
    "clf = MySGDClassifier(batch_generator, C=1, alpha=0.02, max_epoch=10, model_type='lin_reg')\n",
    "clf.fit(X, y, batch_size=1)\n",
    "plot_decision_boundary(clf)\n",
    "\n",
    "clf = MySGDClassifier(batch_generator, C=1, alpha=0.001, max_epoch=10, model_type='log_reg')\n",
    "clf.fit(X, y, batch_size=1)\n",
    "plot_decision_boundary(clf)\n",
    "\n",
    "plt.scatter(X[:, 0], X[:, 1], c=y)\n",
    "plt.show()\n"
   ]
  },
  {
   "cell_type": "markdown",
   "metadata": {},
   "source": [
    "Далее будем анализировать Ваш алгоритм. \n",
    "Для этих заданий используйте датасет ниже."
   ]
  },
  {
   "cell_type": "code",
   "execution_count": 10,
   "metadata": {},
   "outputs": [],
   "source": [
    "from sklearn.datasets import make_classification"
   ]
  },
  {
   "cell_type": "code",
   "execution_count": 11,
   "metadata": {},
   "outputs": [],
   "source": [
    "X, y = make_classification(n_samples=100000, n_features=10,\n",
    "                           n_informative=4, n_redundant=0,\n",
    "                           random_state=123, class_sep=1.0,\n",
    "                           n_clusters_per_class=1)"
   ]
  },
  {
   "cell_type": "markdown",
   "metadata": {},
   "source": [
    "Покажите сходимости обеих регрессией на этом датасете: изобразите график  функции потерь, усредненной по $N$ шагам градиентого спуска, для разных `alpha` (размеров шага). Разные `alpha` расположите на одном графике. \n",
    "\n",
    "$N$ можно брать 10, 50, 100 и т.д. "
   ]
  },
  {
   "cell_type": "code",
   "execution_count": 12,
   "metadata": {},
   "outputs": [
    {
     "data": {
      "image/png": "[encoded data removed]",
      "text/plain": [
       "<Figure size 864x360 with 1 Axes>"
      ]
     },
     "metadata": {},
     "output_type": "display_data"
    }
   ],
   "source": [
    "N = 50\n",
    "alphas = [0.001, 0.005, 0.01, 0.05]\n",
    "batch_size = 10\n",
    "\n",
    "for alpha in alphas:\n",
    "    clf = MySGDClassifier(batch_generator, alpha=alpha, model_type='lin_reg')\n",
    "    clf.fit(X, y, batch_size)\n",
    "    losses = []\n",
    "    for i in range(0, len(clf.errors_log['loss']), 1):\n",
    "        losses.append(np.mean(clf.errors_log['loss'][i:i + N]))\n",
    "\n",
    "    plt.plot(np.arange(0, len(clf.errors_log['loss']), 1), losses, label=f'alpha={alpha}')\n",
    "\n",
    "plt.legend()\n",
    "plt.title('Linear regression')\n",
    "plt.xlabel('Iteration')\n",
    "plt.ylabel('Loss')\n",
    "plt.show()"
   ]
  },
  {
   "cell_type": "code",
   "execution_count": 13,
   "metadata": {},
   "outputs": [
    {
     "data": {
      "image/png": "[encoded data removed]",
      "text/plain": [
       "<Figure size 864x360 with 1 Axes>"
      ]
     },
     "metadata": {},
     "output_type": "display_data"
    }
   ],
   "source": [
    "N = 50\n",
    "alphas = [0.001, 0.005, 0.01, 0.05]\n",
    "batch_size = 10\n",
    "\n",
    "for alpha in alphas:\n",
    "    clf = MySGDClassifier(batch_generator, alpha=alpha, model_type='log_reg')\n",
    "    clf.fit(X, y, batch_size)\n",
    "    losses = []\n",
    "    for i in range(0, len(clf.errors_log['loss']), N):\n",
    "        losses.append(np.mean(clf.errors_log['loss'][i:i + N]))\n",
    "\n",
    "    plt.plot(np.arange(0, len(clf.errors_log['loss']), N), losses, label=f'alpha={alpha}')\n",
    "\n",
    "plt.legend()\n",
    "plt.title('Logistic regression')\n",
    "plt.xlabel('Iteration')\n",
    "plt.ylabel('Loss')\n",
    "plt.show()"
   ]
  },
  {
   "cell_type": "markdown",
   "metadata": {},
   "source": [
    "Что Вы можете сказать про сходимость метода при различных `alpha`? Какое значение стоит выбирать для лучшей сходимости?"
   ]
  },
  {
   "cell_type": "markdown",
   "metadata": {},
   "source": [
    "При больших alpha функция потерь сходится быстрее, но при приближении к минимуму из-за большого шага можем так и не достичь этот минимум. Поэтому лучше всего в начале выбирать шаг побольше, а затем уменьшать его от эпохи к эпохе. "
   ]
  },
  {
   "cell_type": "markdown",
   "metadata": {},
   "source": [
    "Изобразите график среднего значения весов для обеих регрессий в зависимости от коеф. регуляризации С из `np.logspace(3, -3, 10)` "
   ]
  },
  {
   "cell_type": "code",
   "execution_count": 14,
   "metadata": {},
   "outputs": [
    {
     "data": {
      "image/png": "[encoded data removed]",
      "text/plain": [
       "<Figure size 864x360 with 1 Axes>"
      ]
     },
     "metadata": {},
     "output_type": "display_data"
    },
    {
     "data": {
      "image/png": "[encoded data removed]",
      "text/plain": [
       "<Figure size 864x360 with 1 Axes>"
      ]
     },
     "metadata": {},
     "output_type": "display_data"
    }
   ],
   "source": [
    "C = np.logspace(3, -3, 10)\n",
    "batch_size = 10\n",
    "\n",
    "lin_weights = []\n",
    "log_weights = []\n",
    "\n",
    "for elem in C:\n",
    "    clf = MySGDClassifier(batch_generator, C=elem, alpha=0.0001, model_type='lin_reg')\n",
    "    clf.fit(X, y, batch_size)\n",
    "    lin_weights.append(np.mean(clf.weights))\n",
    "\n",
    "    clf = MySGDClassifier(batch_generator, C=elem, alpha=0.0001, model_type='log_reg')\n",
    "    clf.fit(X, y, batch_size)\n",
    "    log_weights.append(np.mean(clf.weights))\n",
    "\n",
    "plt.plot(C, lin_weights, label='LinReg')\n",
    "plt.legend()\n",
    "plt.xlabel('C')\n",
    "plt.xscale('log')\n",
    "plt.ylabel('Weights')\n",
    "plt.show()\n",
    "\n",
    "plt.plot(C, log_weights, label='LogReg')\n",
    "plt.legend()\n",
    "plt.xlabel('C')\n",
    "plt.xscale('log')\n",
    "plt.ylabel('Weights')\n",
    "plt.show()"
   ]
  },
  {
   "cell_type": "markdown",
   "metadata": {},
   "source": [
    "Довольны ли Вы, насколько сильно уменьшились Ваши веса? "
   ]
  },
  {
   "cell_type": "markdown",
   "metadata": {},
   "source": [
    "Уменьшение закономерное уменьшению С. Только веса очень близки нулю при малых С."
   ]
  },
  {
   "cell_type": "markdown",
   "metadata": {},
   "source": [
    "# Боевое применение (4  балла)\n",
    "\n",
    "**Защита данной части возможна только при преодолении в проекте бейзлайна Handmade baseline.**"
   ]
  },
  {
   "cell_type": "markdown",
   "metadata": {},
   "source": [
    "Давайте применим модель на итоговом проекте! Датасет сделаем точно таким же образом, как было показано в project_overview.ipynb\n",
    "\n",
    "Применим обе регрессии, подберем для них параметры и сравним качество. Может быть Вы еще одновременно с решением домашней работы подрастете на лидерборде!"
   ]
  },
  {
   "cell_type": "code",
   "execution_count": 15,
   "metadata": {},
   "outputs": [
    {
     "name": "stdout",
     "output_type": "stream",
     "text": [
      "28026\n"
     ]
    }
   ],
   "source": [
    "doc_to_title = {}\n",
    "with open('docs_titles.tsv', encoding='utf-8') as f:\n",
    "    for num_line, line in enumerate(f):\n",
    "        if num_line == 0:\n",
    "            continue\n",
    "        data = line.strip().split('\\t', 1)\n",
    "        doc_id = int(data[0])\n",
    "        if len(data) == 1:\n",
    "            title = ''\n",
    "        else:\n",
    "            title = data[1]\n",
    "        doc_to_title[doc_id] = title\n",
    "print(len(doc_to_title))\n"
   ]
  },
  {
   "cell_type": "code",
   "execution_count": 16,
   "metadata": {},
   "outputs": [],
   "source": [
    "import pandas as pd\n",
    "\n",
    "train_data = pd.read_csv('train_groups.csv')\n",
    "traingroups_titledata = {}\n",
    "for i in range(len(train_data)):\n",
    "    new_doc = train_data.iloc[i]\n",
    "    doc_group = new_doc['group_id']\n",
    "    doc_id = new_doc['doc_id']\n",
    "    target = new_doc['target']\n",
    "    title = doc_to_title[doc_id]\n",
    "    if doc_group not in traingroups_titledata:\n",
    "        traingroups_titledata[doc_group] = []\n",
    "    traingroups_titledata[doc_group].append((doc_id, title, target))"
   ]
  },
  {
   "cell_type": "code",
   "execution_count": 17,
   "metadata": {},
   "outputs": [
    {
     "name": "stdout",
     "output_type": "stream",
     "text": [
      "(11690, 15) (11690,) (11690,)\n"
     ]
    }
   ],
   "source": [
    "y_train = []\n",
    "X_train = []\n",
    "groups_train = []\n",
    "for new_group in traingroups_titledata:\n",
    "    docs = traingroups_titledata[new_group]\n",
    "    for k, (doc_id, title, target_id) in enumerate(docs):\n",
    "        y_train.append(target_id)\n",
    "        groups_train.append(new_group)\n",
    "        all_dist = []\n",
    "        words = set(title.strip().split())\n",
    "        for j in range(0, len(docs)):\n",
    "            if k == j:\n",
    "                continue\n",
    "            doc_id_j, title_j, target_j = docs[j]\n",
    "            words_j = set(title_j.strip().split())\n",
    "            all_dist.append(len(words.intersection(words_j)))\n",
    "        X_train.append(sorted(all_dist, reverse=True)[0:15])\n",
    "X_train = np.array(X_train)\n",
    "y_train = np.array(y_train)\n",
    "groups_train = np.array(groups_train)\n",
    "print(X_train.shape, y_train.shape, groups_train.shape)"
   ]
  },
  {
   "cell_type": "markdown",
   "metadata": {},
   "source": [
    "Подберите размер батча для обучения. Линейная модель не должна учиться дольше нескольких минут. \n",
    "\n",
    "Не забывайте использовать скейлер!"
   ]
  },
  {
   "cell_type": "code",
   "execution_count": 18,
   "metadata": {},
   "outputs": [],
   "source": [
    "from sklearn.metrics import f1_score\n",
    "from sklearn.linear_model import LinearRegression\n",
    "from sklearn.preprocessing import StandardScaler"
   ]
  },
  {
   "cell_type": "code",
   "execution_count": 19,
   "metadata": {},
   "outputs": [],
   "source": [
    "scaler = StandardScaler()\n",
    "X_train = scaler.fit_transform(X_train)"
   ]
  },
  {
   "cell_type": "markdown",
   "metadata": {},
   "source": [
    "Разбейте данные на обучение и валидацию. Подберите параметры C, alpha, max_epoch, model_type на валидации (Вы же помните, как правильно в этой задаче делать валидацию?)"
   ]
  },
  {
   "cell_type": "code",
   "execution_count": 21,
   "metadata": {},
   "outputs": [],
   "source": [
    "import warnings\n",
    "warnings.filterwarnings('ignore')"
   ]
  },
  {
   "cell_type": "code",
   "execution_count": 22,
   "metadata": {
    "scrolled": true
   },
   "outputs": [
    {
     "name": "stdout",
     "output_type": "stream",
     "text": [
      "C=0.01, alpha=0.001, max_epoch=5,                   score=0.4368\n",
      "C=0.01, alpha=0.001, max_epoch=10,                   score=0.4368\n",
      "C=0.01, alpha=0.001, max_epoch=15,                   score=0.4368\n",
      "C=0.01, alpha=0.001, max_epoch=20,                   score=0.3688\n",
      "C=0.01, alpha=0.001, max_epoch=25,                   score=0.2350\n",
      "C=0.01, alpha=0.005, max_epoch=5,                   score=0.4368\n",
      "C=0.01, alpha=0.005, max_epoch=10,                   score=0.2203\n",
      "C=0.01, alpha=0.005, max_epoch=15,                   score=0.2277\n",
      "C=0.01, alpha=0.005, max_epoch=20,                   score=0.0615\n",
      "C=0.01, alpha=0.005, max_epoch=25,                   score=0.0000\n",
      "C=0.01, alpha=0.010, max_epoch=5,                   score=0.1828\n",
      "C=0.01, alpha=0.010, max_epoch=10,                   score=0.5851\n",
      "C=0.01, alpha=0.010, max_epoch=15,                   score=0.1802\n",
      "C=0.01, alpha=0.010, max_epoch=20,                   score=0.5867\n",
      "C=0.01, alpha=0.010, max_epoch=25,                   score=0.1797\n",
      "C=0.01, alpha=0.050, max_epoch=5,                   score=0.1812\n",
      "C=0.01, alpha=0.050, max_epoch=10,                   score=0.5863\n",
      "C=0.01, alpha=0.050, max_epoch=15,                   score=0.0000\n",
      "C=0.01, alpha=0.050, max_epoch=20,                   score=0.0000\n",
      "C=0.01, alpha=0.050, max_epoch=25,                   score=0.0000\n",
      "C=0.05, alpha=0.001, max_epoch=5,                   score=0.4368\n",
      "C=0.05, alpha=0.001, max_epoch=10,                   score=0.4017\n",
      "C=0.05, alpha=0.001, max_epoch=15,                   score=0.4360\n",
      "C=0.05, alpha=0.001, max_epoch=20,                   score=0.4033\n",
      "C=0.05, alpha=0.001, max_epoch=25,                   score=0.4368\n",
      "C=0.05, alpha=0.005, max_epoch=5,                   score=0.3647\n",
      "C=0.05, alpha=0.005, max_epoch=10,                   score=0.3267\n",
      "C=0.05, alpha=0.005, max_epoch=15,                   score=0.2430\n",
      "C=0.05, alpha=0.005, max_epoch=20,                   score=0.0621\n",
      "C=0.05, alpha=0.005, max_epoch=25,                   score=0.0000\n",
      "C=0.05, alpha=0.010, max_epoch=5,                   score=0.2407\n",
      "C=0.05, alpha=0.010, max_epoch=10,                   score=0.0615\n",
      "C=0.05, alpha=0.010, max_epoch=15,                   score=0.0000\n",
      "C=0.05, alpha=0.010, max_epoch=20,                   score=0.0000\n",
      "C=0.05, alpha=0.010, max_epoch=25,                   score=0.0000\n",
      "C=0.05, alpha=0.050, max_epoch=5,                   score=0.1789\n",
      "C=0.05, alpha=0.050, max_epoch=10,                   score=0.5862\n",
      "C=0.05, alpha=0.050, max_epoch=15,                   score=0.1789\n",
      "C=0.05, alpha=0.050, max_epoch=20,                   score=0.5863\n",
      "C=0.05, alpha=0.050, max_epoch=25,                   score=0.1787\n",
      "C=0.1, alpha=0.001, max_epoch=5,                   score=0.4614\n",
      "C=0.1, alpha=0.001, max_epoch=10,                   score=0.4324\n",
      "C=0.1, alpha=0.001, max_epoch=15,                   score=0.4368\n",
      "C=0.1, alpha=0.001, max_epoch=20,                   score=0.4368\n",
      "C=0.1, alpha=0.001, max_epoch=25,                   score=0.3704\n",
      "C=0.1, alpha=0.005, max_epoch=5,                   score=0.2717\n",
      "C=0.1, alpha=0.005, max_epoch=10,                   score=0.3129\n",
      "C=0.1, alpha=0.005, max_epoch=15,                   score=0.2411\n",
      "C=0.1, alpha=0.005, max_epoch=20,                   score=0.0000\n",
      "C=0.1, alpha=0.005, max_epoch=25,                   score=0.0000\n",
      "C=0.1, alpha=0.010, max_epoch=5,                   score=0.3262\n",
      "C=0.1, alpha=0.010, max_epoch=10,                   score=0.1904\n",
      "C=0.1, alpha=0.010, max_epoch=15,                   score=0.0000\n",
      "C=0.1, alpha=0.010, max_epoch=20,                   score=0.0000\n",
      "C=0.1, alpha=0.010, max_epoch=25,                   score=0.0000\n",
      "C=0.1, alpha=0.050, max_epoch=5,                   score=0.0000\n",
      "C=0.1, alpha=0.050, max_epoch=10,                   score=0.0000\n",
      "C=0.1, alpha=0.050, max_epoch=15,                   score=0.0000\n",
      "C=0.1, alpha=0.050, max_epoch=20,                   score=0.0000\n",
      "C=0.1, alpha=0.050, max_epoch=25,                   score=0.0000\n",
      "C=0.5, alpha=0.001, max_epoch=5,                   score=0.5830\n",
      "C=0.5, alpha=0.001, max_epoch=10,                   score=0.5685\n",
      "C=0.5, alpha=0.001, max_epoch=15,                   score=0.5263\n",
      "C=0.5, alpha=0.001, max_epoch=20,                   score=0.4674\n",
      "C=0.5, alpha=0.001, max_epoch=25,                   score=0.4650\n",
      "C=0.5, alpha=0.005, max_epoch=5,                   score=0.4700\n",
      "C=0.5, alpha=0.005, max_epoch=10,                   score=0.2852\n",
      "C=0.5, alpha=0.005, max_epoch=15,                   score=0.0819\n",
      "C=0.5, alpha=0.005, max_epoch=20,                   score=0.0966\n",
      "C=0.5, alpha=0.005, max_epoch=25,                   score=0.0087\n",
      "C=0.5, alpha=0.010, max_epoch=5,                   score=0.3048\n",
      "C=0.5, alpha=0.010, max_epoch=10,                   score=0.0611\n",
      "C=0.5, alpha=0.010, max_epoch=15,                   score=0.0000\n",
      "C=0.5, alpha=0.010, max_epoch=20,                   score=0.0000\n",
      "C=0.5, alpha=0.010, max_epoch=25,                   score=0.0000\n",
      "C=0.5, alpha=0.050, max_epoch=5,                   score=0.0000\n",
      "C=0.5, alpha=0.050, max_epoch=10,                   score=0.0000\n",
      "C=0.5, alpha=0.050, max_epoch=15,                   score=0.0000\n",
      "C=0.5, alpha=0.050, max_epoch=20,                   score=0.0000\n",
      "C=0.5, alpha=0.050, max_epoch=25,                   score=0.0000\n",
      "C=1, alpha=0.001, max_epoch=5,                   score=0.5802\n",
      "C=1, alpha=0.001, max_epoch=10,                   score=0.5793\n",
      "C=1, alpha=0.001, max_epoch=15,                   score=0.5713\n",
      "C=1, alpha=0.001, max_epoch=20,                   score=0.5522\n",
      "C=1, alpha=0.001, max_epoch=25,                   score=0.5009\n",
      "C=1, alpha=0.005, max_epoch=5,                   score=0.5396\n",
      "C=1, alpha=0.005, max_epoch=10,                   score=0.4368\n",
      "C=1, alpha=0.005, max_epoch=15,                   score=0.2104\n",
      "C=1, alpha=0.005, max_epoch=20,                   score=0.0995\n",
      "C=1, alpha=0.005, max_epoch=25,                   score=0.0334\n",
      "C=1, alpha=0.010, max_epoch=5,                   score=0.3570\n",
      "C=1, alpha=0.010, max_epoch=10,                   score=0.1300\n",
      "C=1, alpha=0.010, max_epoch=15,                   score=0.0051\n",
      "C=1, alpha=0.010, max_epoch=20,                   score=0.0000\n",
      "C=1, alpha=0.010, max_epoch=25,                   score=0.0000\n",
      "C=1, alpha=0.050, max_epoch=5,                   score=0.0000\n",
      "C=1, alpha=0.050, max_epoch=10,                   score=0.0000\n",
      "C=1, alpha=0.050, max_epoch=15,                   score=0.0000\n",
      "C=1, alpha=0.050, max_epoch=20,                   score=0.0000\n",
      "C=1, alpha=0.050, max_epoch=25,                   score=0.0000\n",
      "C=10, alpha=0.001, max_epoch=5,                   score=0.5828\n",
      "C=10, alpha=0.001, max_epoch=10,                   score=0.5813\n",
      "C=10, alpha=0.001, max_epoch=15,                   score=0.5798\n",
      "C=10, alpha=0.001, max_epoch=20,                   score=0.5840\n",
      "C=10, alpha=0.001, max_epoch=25,                   score=0.5799\n",
      "C=10, alpha=0.005, max_epoch=5,                   score=0.5853\n",
      "C=10, alpha=0.005, max_epoch=10,                   score=0.5252\n",
      "C=10, alpha=0.005, max_epoch=15,                   score=0.3760\n",
      "C=10, alpha=0.005, max_epoch=20,                   score=0.3255\n",
      "C=10, alpha=0.005, max_epoch=25,                   score=0.1393\n",
      "C=10, alpha=0.010, max_epoch=5,                   score=0.5516\n",
      "C=10, alpha=0.010, max_epoch=10,                   score=0.2871\n",
      "C=10, alpha=0.010, max_epoch=15,                   score=0.0429\n",
      "C=10, alpha=0.010, max_epoch=20,                   score=0.0087\n",
      "C=10, alpha=0.010, max_epoch=25,                   score=0.0000\n",
      "C=10, alpha=0.050, max_epoch=5,                   score=0.0000\n",
      "C=10, alpha=0.050, max_epoch=10,                   score=0.0000\n",
      "C=10, alpha=0.050, max_epoch=15,                   score=0.0000\n",
      "C=10, alpha=0.050, max_epoch=20,                   score=0.0000\n",
      "C=10, alpha=0.050, max_epoch=25,                   score=0.0000\n",
      "C=50, alpha=0.001, max_epoch=5,                   score=0.5842\n",
      "C=50, alpha=0.001, max_epoch=10,                   score=0.5843\n",
      "C=50, alpha=0.001, max_epoch=15,                   score=0.5881\n",
      "C=50, alpha=0.001, max_epoch=20,                   score=0.5855\n",
      "C=50, alpha=0.001, max_epoch=25,                   score=0.5829\n",
      "C=50, alpha=0.005, max_epoch=5,                   score=0.5824\n",
      "C=50, alpha=0.005, max_epoch=10,                   score=0.5336\n"
     ]
    },
    {
     "name": "stdout",
     "output_type": "stream",
     "text": [
      "C=50, alpha=0.005, max_epoch=15,                   score=0.4499\n",
      "C=50, alpha=0.005, max_epoch=20,                   score=0.4132\n",
      "C=50, alpha=0.005, max_epoch=25,                   score=0.3337\n",
      "C=50, alpha=0.010, max_epoch=5,                   score=0.5484\n",
      "C=50, alpha=0.010, max_epoch=10,                   score=0.3454\n",
      "C=50, alpha=0.010, max_epoch=15,                   score=0.1876\n",
      "C=50, alpha=0.010, max_epoch=20,                   score=0.0762\n",
      "C=50, alpha=0.010, max_epoch=25,                   score=0.0116\n",
      "C=50, alpha=0.050, max_epoch=5,                   score=0.0288\n",
      "C=50, alpha=0.050, max_epoch=10,                   score=0.0007\n",
      "C=50, alpha=0.050, max_epoch=15,                   score=0.0000\n",
      "C=50, alpha=0.050, max_epoch=20,                   score=0.0000\n",
      "C=50, alpha=0.050, max_epoch=25,                   score=0.0000\n",
      "C=100, alpha=0.001, max_epoch=5,                   score=0.5857\n",
      "C=100, alpha=0.001, max_epoch=10,                   score=0.5791\n",
      "C=100, alpha=0.001, max_epoch=15,                   score=0.5860\n",
      "C=100, alpha=0.001, max_epoch=20,                   score=0.5836\n",
      "C=100, alpha=0.001, max_epoch=25,                   score=0.5810\n",
      "C=100, alpha=0.005, max_epoch=5,                   score=0.5806\n",
      "C=100, alpha=0.005, max_epoch=10,                   score=0.5673\n",
      "C=100, alpha=0.005, max_epoch=15,                   score=0.4508\n",
      "C=100, alpha=0.005, max_epoch=20,                   score=0.3193\n",
      "C=100, alpha=0.005, max_epoch=25,                   score=0.2260\n",
      "C=100, alpha=0.010, max_epoch=5,                   score=0.5515\n",
      "C=100, alpha=0.010, max_epoch=10,                   score=0.3139\n",
      "C=100, alpha=0.010, max_epoch=15,                   score=0.1270\n",
      "C=100, alpha=0.010, max_epoch=20,                   score=0.0897\n",
      "C=100, alpha=0.010, max_epoch=25,                   score=0.0424\n",
      "C=100, alpha=0.050, max_epoch=5,                   score=0.0403\n",
      "C=100, alpha=0.050, max_epoch=10,                   score=0.0013\n",
      "C=100, alpha=0.050, max_epoch=15,                   score=0.0013\n",
      "C=100, alpha=0.050, max_epoch=20,                   score=0.0000\n",
      "C=100, alpha=0.050, max_epoch=25,                   score=0.0000\n"
     ]
    }
   ],
   "source": [
    "from sklearn.model_selection import GroupKFold\n",
    "\n",
    "gkfold = GroupKFold(n_splits=10)\n",
    "\n",
    "results = {}\n",
    "for C in [0.01, 0.05, 0.1, 0.5, 1, 10, 50, 100]:\n",
    "    for alpha in [0.001, 0.005, 0.01, 0.05]:\n",
    "        for max_epoch in range(5, 26, 5):\n",
    "            val_scores = []\n",
    "            for train, test in gkfold.split(X_train, groups=groups_train):\n",
    "                clf = MySGDClassifier(batch_generator, max_epoch=max_epoch, C=C,\n",
    "                                      alpha=alpha, model_type='log_reg')\n",
    "                clf.fit(X_train[train], y_train[train])\n",
    "                y_pred = clf.predict(X_train[test])\n",
    "                val_scores.append(f1_score(y_train[test], y_pred))\n",
    "            results[(C, alpha, max_epoch)] = np.mean(val_scores)\n",
    "            print(f'C={C}, alpha={alpha:.3f}, max_epoch={max_epoch}, \\\n",
    "                  score={np.mean(val_scores):.4f}')"
   ]
  },
  {
   "cell_type": "code",
   "execution_count": 23,
   "metadata": {},
   "outputs": [
    {
     "data": {
      "text/plain": [
       "[((50, 0.001, 15), 0.5880584775217824),\n",
       " ((0.01, 0.01, 20), 0.5866863034523722),\n",
       " ((0.01, 0.05, 10), 0.586345888294436),\n",
       " ((0.05, 0.05, 20), 0.5862969994929107),\n",
       " ((0.05, 0.05, 10), 0.5862192332620269),\n",
       " ((100, 0.001, 15), 0.5860022384237269),\n",
       " ((100, 0.001, 5), 0.5856882770391896),\n",
       " ((50, 0.001, 20), 0.5854734519182716),\n",
       " ((10, 0.005, 5), 0.5852901128144734),\n",
       " ((0.01, 0.01, 10), 0.5850646248123106)]"
      ]
     },
     "execution_count": 23,
     "metadata": {},
     "output_type": "execute_result"
    }
   ],
   "source": [
    "best = sorted(results.items(), key=lambda x: x[1])[::-1][:10]\n",
    "best"
   ]
  },
  {
   "cell_type": "code",
   "execution_count": 26,
   "metadata": {},
   "outputs": [],
   "source": [
    "best_params = {'C': 0.01, 'alpha': 0.01, 'max_epoch': 20}"
   ]
  },
  {
   "cell_type": "markdown",
   "metadata": {
    "collapsed": true
   },
   "source": [
    "Подберите порог линейной модели, по достижении которого, Вы будете относить объект к классу 1. Вспомните, какую метрику мы оптимизируем в соревновании.  Как тогда правильно подобрать порог?"
   ]
  },
  {
   "cell_type": "code",
   "execution_count": 27,
   "metadata": {},
   "outputs": [
    {
     "name": "stdout",
     "output_type": "stream",
     "text": [
      "threshold=0.00, score=0.4411\n",
      "threshold=0.01, score=0.5941\n",
      "threshold=0.02, score=0.5949\n",
      "threshold=0.03, score=0.5932\n",
      "threshold=0.04, score=0.5928\n",
      "threshold=0.05, score=0.5922\n",
      "threshold=0.06, score=0.5915\n",
      "threshold=0.07, score=0.5936\n",
      "threshold=0.08, score=0.5926\n",
      "threshold=0.09, score=0.5928\n",
      "threshold=0.10, score=0.5929\n",
      "threshold=0.11, score=0.5926\n",
      "threshold=0.12, score=0.5926\n",
      "threshold=0.13, score=0.5926\n",
      "threshold=0.14, score=0.5937\n",
      "threshold=0.15, score=0.5938\n",
      "threshold=0.16, score=0.5942\n",
      "threshold=0.17, score=0.5947\n",
      "threshold=0.18, score=0.5948\n",
      "threshold=0.19, score=0.5949\n",
      "threshold=0.20, score=0.5946\n",
      "threshold=0.21, score=0.5947\n",
      "threshold=0.22, score=0.5947\n",
      "threshold=0.23, score=0.5950\n",
      "threshold=0.24, score=0.5958\n",
      "threshold=0.25, score=0.5956\n",
      "threshold=0.26, score=0.5959\n",
      "threshold=0.27, score=0.5957\n",
      "threshold=0.28, score=0.5957\n",
      "threshold=0.29, score=0.5958\n",
      "threshold=0.30, score=0.5959\n",
      "threshold=0.31, score=0.5955\n",
      "threshold=0.32, score=0.5954\n",
      "threshold=0.33, score=0.5952\n",
      "threshold=0.34, score=0.5948\n",
      "threshold=0.35, score=0.5950\n",
      "threshold=0.36, score=0.5950\n",
      "threshold=0.37, score=0.5952\n",
      "threshold=0.38, score=0.5952\n",
      "threshold=0.39, score=0.5954\n",
      "threshold=0.40, score=0.5953\n",
      "threshold=0.41, score=0.5953\n",
      "threshold=0.42, score=0.5959\n",
      "threshold=0.43, score=0.5960\n",
      "threshold=0.44, score=0.5966\n",
      "threshold=0.45, score=0.5966\n",
      "threshold=0.46, score=0.5966\n",
      "threshold=0.47, score=0.5968\n",
      "threshold=0.48, score=0.5969\n",
      "threshold=0.49, score=0.5970\n",
      "threshold=0.50, score=0.5971\n",
      "threshold=0.51, score=0.5971\n",
      "threshold=0.52, score=0.5971\n",
      "threshold=0.53, score=0.5971\n",
      "threshold=0.54, score=0.5969\n",
      "threshold=0.55, score=0.5969\n",
      "threshold=0.56, score=0.5967\n",
      "threshold=0.57, score=0.5969\n",
      "threshold=0.58, score=0.5969\n",
      "threshold=0.59, score=0.5964\n",
      "threshold=0.60, score=0.5968\n",
      "threshold=0.61, score=0.5968\n",
      "threshold=0.62, score=0.5972\n",
      "threshold=0.63, score=0.5971\n",
      "threshold=0.64, score=0.5971\n",
      "threshold=0.65, score=0.5972\n",
      "threshold=0.66, score=0.5978\n",
      "threshold=0.67, score=0.5978\n",
      "threshold=0.68, score=0.5979\n",
      "threshold=0.69, score=0.5979\n",
      "threshold=0.70, score=0.5973\n",
      "threshold=0.71, score=0.5973\n",
      "threshold=0.72, score=0.5973\n",
      "threshold=0.73, score=0.5976\n",
      "threshold=0.74, score=0.5995\n",
      "threshold=0.75, score=0.5998\n",
      "threshold=0.76, score=0.5996\n",
      "threshold=0.77, score=0.5995\n",
      "threshold=0.78, score=0.5994\n",
      "threshold=0.79, score=0.5992\n",
      "threshold=0.80, score=0.5993\n",
      "threshold=0.81, score=0.5986\n",
      "threshold=0.82, score=0.5984\n",
      "threshold=0.83, score=0.5984\n",
      "threshold=0.84, score=0.5987\n",
      "threshold=0.85, score=0.5987\n",
      "threshold=0.86, score=0.5984\n",
      "threshold=0.87, score=0.5976\n",
      "threshold=0.88, score=0.5978\n",
      "threshold=0.89, score=0.5980\n",
      "threshold=0.90, score=0.5974\n",
      "threshold=0.91, score=0.5972\n",
      "threshold=0.92, score=0.5973\n",
      "threshold=0.93, score=0.5981\n",
      "threshold=0.94, score=0.5975\n",
      "threshold=0.95, score=0.5979\n",
      "threshold=0.96, score=0.5980\n",
      "threshold=0.97, score=0.5984\n",
      "threshold=0.98, score=0.5984\n",
      "threshold=0.99, score=0.5963\n"
     ]
    }
   ],
   "source": [
    "gkfold = GroupKFold(n_splits=15)\n",
    "\n",
    "thresholds = {}\n",
    "clf = MySGDClassifier(batch_generator, **best_params, model_type='log_reg')\n",
    "clf.fit(X_train[train], y_train[train])\n",
    "for threshold in np.arange(0, 1, 0.01):\n",
    "    val_scores = []\n",
    "    for train, test in gkfold.split(X_train, groups=groups_train):\n",
    "        y_pred = clf.predict(X_train[test], threshold)\n",
    "        val_scores.append(f1_score(y_train[test], y_pred))\n",
    "    thresholds[threshold] = np.mean(val_scores)\n",
    "    print(f'threshold={threshold:.2f}, score={np.mean(val_scores):.4f}')\n"
   ]
  },
  {
   "cell_type": "code",
   "execution_count": 28,
   "metadata": {},
   "outputs": [
    {
     "data": {
      "text/plain": [
       "[(0.75, 0.5998024392226622),\n",
       " (0.76, 0.5996360766167207),\n",
       " (0.77, 0.5994872688719859),\n",
       " (0.74, 0.5994708363082446),\n",
       " (0.78, 0.5994431399425789),\n",
       " (0.8, 0.599330765145135),\n",
       " (0.79, 0.599204146231887),\n",
       " (0.85, 0.5986742935538752),\n",
       " (0.84, 0.5986742935538752),\n",
       " (0.81, 0.5985853279595389)]"
      ]
     },
     "execution_count": 28,
     "metadata": {},
     "output_type": "execute_result"
    }
   ],
   "source": [
    "best10 = sorted(thresholds.items(), key=lambda x: x[1])[::-1][:10]\n",
    "best10"
   ]
  },
  {
   "cell_type": "code",
   "execution_count": 29,
   "metadata": {},
   "outputs": [],
   "source": [
    "best_threshold = best10[0][0]"
   ]
  },
  {
   "cell_type": "markdown",
   "metadata": {},
   "source": [
    "С лучшими параметрами на валидации сделайте предсказание на тестовом множестве, отправьте его на проверку на платформу kaggle. Убедитесь, что Вы смогли побить public score первого бейзлайна."
   ]
  },
  {
   "cell_type": "markdown",
   "metadata": {
    "collapsed": true
   },
   "source": [
    "** При сдаче домашки Вам необходимо кроме ссылки на ноутбук показать Ваш ник на kaggle, под которым Вы залили решение, которое побило Handmade baseline. **"
   ]
  },
  {
   "cell_type": "code",
   "execution_count": 30,
   "metadata": {},
   "outputs": [
    {
     "name": "stdout",
     "output_type": "stream",
     "text": [
      "(16627, 15) (16627,)\n"
     ]
    }
   ],
   "source": [
    "test_data = pd.read_csv('test_groups.csv')\n",
    "testgroups_titledata = {}\n",
    "for i in range(len(test_data)):\n",
    "    new_doc = test_data.iloc[i]\n",
    "    doc_group = new_doc['group_id']\n",
    "    doc_id = new_doc['doc_id']\n",
    "    title = doc_to_title[doc_id]\n",
    "    if doc_group not in testgroups_titledata:\n",
    "        testgroups_titledata[doc_group] = []\n",
    "    testgroups_titledata[doc_group].append((doc_id, title))\n",
    "\n",
    "X_test = []\n",
    "groups_test = []\n",
    "for new_group in testgroups_titledata:\n",
    "    docs = testgroups_titledata[new_group]\n",
    "    for k, (doc_id, title) in enumerate(docs):\n",
    "        groups_test.append(new_group)\n",
    "        all_dist = []\n",
    "        words = set(title.strip().split())\n",
    "        for j in range(0, len(docs)):\n",
    "            if k == j:\n",
    "                continue\n",
    "            doc_id_j, title_j = docs[j]\n",
    "            words_j = set(title_j.strip().split())\n",
    "            all_dist.append(len(words.intersection(words_j)))\n",
    "        X_test.append(sorted(all_dist, reverse=True)[0:15])\n",
    "X_test = np.array(X_test)\n",
    "groups_test = np.array(groups_test)\n",
    "print(X_test.shape, groups_test.shape)"
   ]
  },
  {
   "cell_type": "code",
   "execution_count": 31,
   "metadata": {},
   "outputs": [],
   "source": [
    "scaler = StandardScaler()\n",
    "X_test = scaler.fit_transform(X_test)"
   ]
  },
  {
   "cell_type": "code",
   "execution_count": 32,
   "metadata": {},
   "outputs": [
    {
     "data": {
      "text/plain": [
       "(array([0, 1]), array([10631,  5996], dtype=int64))"
      ]
     },
     "execution_count": 32,
     "metadata": {},
     "output_type": "execute_result"
    }
   ],
   "source": [
    "clf = MySGDClassifier(batch_generator, **best_params, model_type='log_reg')\n",
    "clf.fit(X_train, y_train)\n",
    "y_pred = clf.predict(X_test, best_threshold)\n",
    "np.unique(y_pred, return_counts=True)"
   ]
  },
  {
   "cell_type": "code",
   "execution_count": 33,
   "metadata": {},
   "outputs": [],
   "source": [
    "subm = pd.read_csv('sample_submission.csv')\n",
    "subm.target = y_pred"
   ]
  },
  {
   "cell_type": "code",
   "execution_count": 34,
   "metadata": {},
   "outputs": [],
   "source": [
    "subm.to_csv('submission.csv', index=False)"
   ]
  },
  {
   "cell_type": "markdown",
   "metadata": {},
   "source": [
    "# Фидбек (бесценно)"
   ]
  },
  {
   "cell_type": "markdown",
   "metadata": {},
   "source": [
    "* Какие аспекты обучения линейных моделей Вам показались непонятными? Какое место стоит дополнительно объяснить?"
   ]
  },
  {
   "cell_type": "markdown",
   "metadata": {},
   "source": [
    "***Ваше ответ здесь***"
   ]
  },
  {
   "cell_type": "markdown",
   "metadata": {},
   "source": [
    "* Здесь Вы можете оставить отзыв о этой домашней работе или о всем курсе.   "
   ]
  },
  {
   "cell_type": "markdown",
   "metadata": {},
   "source": [
    "*** ВАШ ОТЗЫВ ЗДЕСЬ***"
   ]
  },
  {
   "cell_type": "code",
   "execution_count": null,
   "metadata": {},
   "outputs": [],
   "source": []
  },
  {
   "cell_type": "code",
   "execution_count": null,
   "metadata": {},
   "outputs": [],
   "source": []
  }
 ],
 "metadata": {
  "anaconda-cloud": {},
  "kernelspec": {
   "display_name": "Python 3",
   "language": "python",
   "name": "python3"
  },
  "language_info": {
   "codemirror_mode": {
    "name": "ipython",
    "version": 3
   },
   "file_extension": ".py",
   "mimetype": "text/x-python",
   "name": "python",
   "nbconvert_exporter": "python",
   "pygments_lexer": "ipython3",
   "version": "3.8.8"
  },
  "nav_menu": {},
  "toc": {
   "colors": {
    "hover_highlight": "#DAA520",
    "navigate_num": "#000000",
    "navigate_text": "#333333",
    "running_highlight": "#FF0000",
    "selected_highlight": "#FFD700",
    "sidebar_border": "#EEEEEE",
    "wrapper_background": "#FFFFFF"
   },
   "moveMenuLeft": true,
   "nav_menu": {
    "height": "402px",
    "width": "253px"
   },
   "navigate_menu": true,
   "number_sections": false,
   "sideBar": true,
   "threshold": 4,
   "toc_cell": false,
   "toc_section_display": "block",
   "toc_window_display": true,
   "widenNotebook": false
  }
 },
 "nbformat": 4,
 "nbformat_minor": 2
}
