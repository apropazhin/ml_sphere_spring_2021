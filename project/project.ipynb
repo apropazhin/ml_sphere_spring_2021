{
 "cells": [
  {
   "cell_type": "code",
   "execution_count": 1,
   "metadata": {
    "_cell_guid": "b1076dfc-b9ad-4769-8c92-a6c4dae69d19",
    "_uuid": "8f2839f25d086af736a60e9eeb907d3b93b6e0e5",
    "execution": {
     "iopub.execute_input": "2021-05-29T19:42:55.431696Z",
     "iopub.status.busy": "2021-05-29T19:42:55.431308Z",
     "iopub.status.idle": "2021-05-29T19:42:55.437537Z",
     "shell.execute_reply": "2021-05-29T19:42:55.436476Z",
     "shell.execute_reply.started": "2021-05-29T19:42:55.431643Z"
    }
   },
   "outputs": [],
   "source": [
    "import numpy as np\n",
    "import pandas as pd\n",
    "\n",
    "from sklearn.metrics import f1_score, make_scorer, pairwise_distances\n",
    "from sklearn.preprocessing import StandardScaler\n",
    "from sklearn.neighbors import KNeighborsClassifier\n",
    "from sklearn.svm import SVC\n",
    "from sklearn.model_selection import GroupKFold, GridSearchCV, cross_val_score\n",
    "from sklearn.feature_extraction.text import TfidfVectorizer, CountVectorizer\n",
    "\n",
    "from xgboost import XGBClassifier"
   ]
  },
  {
   "cell_type": "code",
   "execution_count": 2,
   "metadata": {
    "execution": {
     "iopub.execute_input": "2021-05-29T19:13:21.197785Z",
     "iopub.status.busy": "2021-05-29T19:13:21.197249Z",
     "iopub.status.idle": "2021-05-29T19:13:21.256840Z",
     "shell.execute_reply": "2021-05-29T19:13:21.255824Z",
     "shell.execute_reply.started": "2021-05-29T19:13:21.197737Z"
    }
   },
   "outputs": [
    {
     "name": "stdout",
     "output_type": "stream",
     "text": [
      "28026\n"
     ]
    }
   ],
   "source": [
    "doc_to_title = {}\n",
    "with open('docs_titles.tsv', encoding='utf-8') as f:\n",
    "    for num_line, line in enumerate(f):\n",
    "        if num_line == 0:\n",
    "            continue\n",
    "        data = line.strip().split('\\t', 1)\n",
    "        doc_id = int(data[0])\n",
    "        if len(data) == 1:\n",
    "            title = ''\n",
    "        else:\n",
    "            title = data[1]\n",
    "        doc_to_title[doc_id] = title\n",
    "print(len(doc_to_title))"
   ]
  },
  {
   "cell_type": "code",
   "execution_count": 3,
   "metadata": {
    "execution": {
     "iopub.execute_input": "2021-05-29T20:05:35.978543Z",
     "iopub.status.busy": "2021-05-29T20:05:35.978218Z",
     "iopub.status.idle": "2021-05-29T20:05:36.783651Z",
     "shell.execute_reply": "2021-05-29T20:05:36.782791Z",
     "shell.execute_reply.started": "2021-05-29T20:05:35.978515Z"
    }
   },
   "outputs": [
    {
     "data": {
      "text/plain": [
       "(28027, 38695)"
      ]
     },
     "execution_count": 3,
     "metadata": {},
     "output_type": "execute_result"
    }
   ],
   "source": [
    "doc_to_title[0] = ''\n",
    "vectorizer = TfidfVectorizer(analyzer='char', ngram_range=(3, 3))\n",
    "sorted_doc_to_title = dict(sorted(doc_to_title.items()))\n",
    "doc_tfidf = vectorizer.fit_transform(sorted_doc_to_title.values())\n",
    "doc_tfidf.shape"
   ]
  },
  {
   "cell_type": "code",
   "execution_count": 4,
   "metadata": {
    "execution": {
     "iopub.execute_input": "2021-05-29T20:05:40.011280Z",
     "iopub.status.busy": "2021-05-29T20:05:40.010940Z",
     "iopub.status.idle": "2021-05-29T20:05:41.444538Z",
     "shell.execute_reply": "2021-05-29T20:05:41.443649Z",
     "shell.execute_reply.started": "2021-05-29T20:05:40.011252Z"
    }
   },
   "outputs": [
    {
     "name": "stdout",
     "output_type": "stream",
     "text": [
      "(11690, 10) (11690,) (11690,)\n"
     ]
    }
   ],
   "source": [
    "train_data = pd.read_csv('train_groups.csv')\n",
    "traingroups_titledata = {}\n",
    "for i in range(len(train_data)):\n",
    "    new_doc = train_data.iloc[i]\n",
    "    doc_group = new_doc['group_id']\n",
    "    doc_id = new_doc['doc_id']\n",
    "    target = new_doc['target']\n",
    "    title = doc_to_title[doc_id]\n",
    "    if doc_group not in traingroups_titledata:\n",
    "        traingroups_titledata[doc_group] = []\n",
    "    traingroups_titledata[doc_group].append((doc_id, title, target))\n",
    "    \n",
    "X_train = []\n",
    "y_train = []\n",
    "groups_train = []\n",
    "index = 0\n",
    "for new_group in traingroups_titledata:\n",
    "    docs = traingroups_titledata[new_group]\n",
    "    y_train.extend([x[2] for x in docs])\n",
    "    doc_ids = [x[0] for x in docs]\n",
    "    for j, dist in enumerate(pairwise_distances(doc_tfidf[doc_ids], metric='cosine')):      \n",
    "        groups_train.append(new_group)\n",
    "        X_train.append(sorted(dist)[1:11])\n",
    "        index += 1\n",
    "        \n",
    "X_train = np.asarray(X_train)\n",
    "y_train = np.asarray(y_train)\n",
    "groups_train = np.asarray(groups_train)\n",
    "print(X_train.shape, y_train.shape, groups_train.shape)"
   ]
  },
  {
   "cell_type": "code",
   "execution_count": 5,
   "metadata": {
    "execution": {
     "iopub.execute_input": "2021-05-29T20:05:44.633754Z",
     "iopub.status.busy": "2021-05-29T20:05:44.633383Z",
     "iopub.status.idle": "2021-05-29T20:05:44.642285Z",
     "shell.execute_reply": "2021-05-29T20:05:44.641230Z",
     "shell.execute_reply.started": "2021-05-29T20:05:44.633718Z"
    }
   },
   "outputs": [],
   "source": [
    "scaler = StandardScaler()\n",
    "X_train_scaled = scaler.fit_transform(X_train)"
   ]
  },
  {
   "cell_type": "code",
   "execution_count": 6,
   "metadata": {
    "execution": {
     "iopub.execute_input": "2021-05-29T20:05:45.697376Z",
     "iopub.status.busy": "2021-05-29T20:05:45.697059Z",
     "iopub.status.idle": "2021-05-29T20:05:45.700574Z",
     "shell.execute_reply": "2021-05-29T20:05:45.699885Z",
     "shell.execute_reply.started": "2021-05-29T20:05:45.697347Z"
    }
   },
   "outputs": [
    {
     "name": "stdout",
     "output_type": "stream",
     "text": [
      "Fitting 3 folds for each of 108 candidates, totalling 324 fits\n"
     ]
    },
    {
     "data": {
      "text/plain": [
       "{'eval_metric': 'error',\n",
       " 'learning_rate': 0.05,\n",
       " 'max_depth': 1,\n",
       " 'n_estimators': 10}"
      ]
     },
     "execution_count": 6,
     "metadata": {},
     "output_type": "execute_result"
    }
   ],
   "source": [
    "grid_param = {'learning_rate': [0.01, 0.05, 0.1],\n",
    "              'max_depth': range(1, 5),\n",
    "              'n_estimators': [10, 50, 100],\n",
    "              'eval_metric'  : ['error', 'logloss', 'auc']}\n",
    "\n",
    "xgb = XGBClassifier(use_label_encoder=False, \n",
    "                    objective='binary:logistic',\n",
    "                    seed=42)\n",
    "\n",
    "gs_xgb = GridSearchCV(xgb, grid_param, scoring=make_scorer(f1_score), \n",
    "                      cv=GroupKFold(n_splits=3), verbose=1)\n",
    "\n",
    "gs_xgb.fit(X_train_scaled, y_train, groups=groups_train)\n",
    "\n",
    "best_xgb = gs_xgb.best_estimator_\n",
    "gs_xgb.best_params_"
   ]
  },
  {
   "cell_type": "code",
   "execution_count": 7,
   "metadata": {
    "execution": {
     "iopub.execute_input": "2021-05-29T20:05:45.998445Z",
     "iopub.status.busy": "2021-05-29T20:05:45.998021Z",
     "iopub.status.idle": "2021-05-29T20:05:46.165890Z",
     "shell.execute_reply": "2021-05-29T20:05:46.165253Z",
     "shell.execute_reply.started": "2021-05-29T20:05:45.998416Z"
    }
   },
   "outputs": [
    {
     "name": "stdout",
     "output_type": "stream",
     "text": [
      "[0.70118343 0.71865443 0.73463485 0.67464473 0.78109798]\n"
     ]
    },
    {
     "data": {
      "text/plain": [
       "0.7220430859374584"
      ]
     },
     "execution_count": 7,
     "metadata": {},
     "output_type": "execute_result"
    }
   ],
   "source": [
    "best_xgb = gs_xgb.best_estimator_\n",
    "score = cross_val_score(best_xgb, X_train_scaled,\n",
    "                y_train, groups=groups_train,\n",
    "                scoring=make_scorer(f1_score))\n",
    "print(score)\n",
    "score.mean()"
   ]
  },
  {
   "cell_type": "code",
   "execution_count": 10,
   "metadata": {
    "execution": {
     "iopub.execute_input": "2021-05-29T19:58:28.748508Z",
     "iopub.status.busy": "2021-05-29T19:58:28.748203Z",
     "iopub.status.idle": "2021-05-29T19:58:30.967596Z",
     "shell.execute_reply": "2021-05-29T19:58:30.966703Z",
     "shell.execute_reply.started": "2021-05-29T19:58:28.748480Z"
    }
   },
   "outputs": [
    {
     "name": "stdout",
     "output_type": "stream",
     "text": [
      "(16627, 10) (16627,)\n"
     ]
    }
   ],
   "source": [
    "test_data = pd.read_csv('test_groups.csv')\n",
    "testgroups_titledata = {}\n",
    "for i in range(len(test_data)):\n",
    "    new_doc = test_data.iloc[i]\n",
    "    doc_group = new_doc['group_id']\n",
    "    doc_id = new_doc['doc_id']\n",
    "    title = doc_to_title[doc_id]\n",
    "    if doc_group not in testgroups_titledata:\n",
    "        testgroups_titledata[doc_group] = []\n",
    "    testgroups_titledata[doc_group].append((doc_id, title))\n",
    "\n",
    "X_test = []\n",
    "groups_test = []\n",
    "index = 0\n",
    "for new_group in testgroups_titledata:\n",
    "    docs = testgroups_titledata[new_group]        \n",
    "    doc_ids = [x[0] for x in docs]\n",
    "    for j, dist in enumerate(pairwise_distances(doc_tfidf[doc_ids], metric='cosine')):\n",
    "        groups_test.append(new_group)\n",
    "        X_test.append(sorted(dist)[1:11])\n",
    "        index += 1\n",
    "X_test = np.asarray(X_test)\n",
    "groups_test = np.asarray(groups_test)\n",
    "print(X_test.shape, groups_test.shape)"
   ]
  },
  {
   "cell_type": "code",
   "execution_count": 11,
   "metadata": {
    "execution": {
     "iopub.execute_input": "2021-05-29T19:56:26.575549Z",
     "iopub.status.busy": "2021-05-29T19:56:26.575242Z",
     "iopub.status.idle": "2021-05-29T19:56:26.652383Z",
     "shell.execute_reply": "2021-05-29T19:56:26.651629Z",
     "shell.execute_reply.started": "2021-05-29T19:56:26.575522Z"
    }
   },
   "outputs": [],
   "source": [
    "best_xgb.fit(X_train_scaled, y_train)\n",
    "X_test_scaled = scaler.transform(X_test)\n",
    "y_pred = best_xgb.predict(X_test_scaled)"
   ]
  },
  {
   "cell_type": "code",
   "execution_count": 13,
   "metadata": {
    "execution": {
     "iopub.execute_input": "2021-05-29T19:56:27.907899Z",
     "iopub.status.busy": "2021-05-29T19:56:27.907397Z",
     "iopub.status.idle": "2021-05-29T19:56:27.936932Z",
     "shell.execute_reply": "2021-05-29T19:56:27.936201Z",
     "shell.execute_reply.started": "2021-05-29T19:56:27.907851Z"
    }
   },
   "outputs": [],
   "source": [
    "subm = pd.read_csv('sample_submission.csv')\n",
    "subm.target = y_pred\n",
    "subm.to_csv('submission.csv', index=False)"
   ]
  },
  {
   "cell_type": "code",
   "execution_count": null,
   "metadata": {
    "execution": {
     "iopub.execute_input": "2021-05-29T19:32:35.902172Z",
     "iopub.status.busy": "2021-05-29T19:32:35.901640Z",
     "iopub.status.idle": "2021-05-29T19:32:35.910397Z",
     "shell.execute_reply": "2021-05-29T19:32:35.909667Z",
     "shell.execute_reply.started": "2021-05-29T19:32:35.902139Z"
    }
   },
   "outputs": [],
   "source": []
  }
 ],
 "metadata": {
  "kernelspec": {
   "display_name": "Python 3",
   "language": "python",
   "name": "python3"
  },
  "language_info": {
   "codemirror_mode": {
    "name": "ipython",
    "version": 3
   },
   "file_extension": ".py",
   "mimetype": "text/x-python",
   "name": "python",
   "nbconvert_exporter": "python",
   "pygments_lexer": "ipython3",
   "version": "3.8.8"
  }
 },
 "nbformat": 4,
 "nbformat_minor": 4
}
