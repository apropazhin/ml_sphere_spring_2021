{
 "cells": [
  {
   "cell_type": "markdown",
   "metadata": {},
   "source": [
    "**Общая информация**\n",
    "\n",
    "**Срок сдачи:** 29 марта 2021, 08:30 \n",
    "\n",
    "**Штраф за опоздание:** по 1 баллу за 24 часа задержки. Через 5 дней домашнее задание сгорает.\n",
    "\n",
    "При отправлении ДЗ указывайте фамилию в названии файла\n",
    "Присылать ДЗ необходимо в виде ссылки на свой github репозиторий на почту ml1.sphere@mail.ru с указанием темы в следующем формате:\n",
    "\n",
    "[ML0220, Задание 1] Фамилия Имя.\n",
    "\n",
    "Используйте данный Ipython Notebook при оформлении домашнего задания."
   ]
  },
  {
   "cell_type": "markdown",
   "metadata": {},
   "source": [
    "\n",
    "**Штрафные баллы:**\n",
    "\n",
    "1. Отсутствие фамилии в имени скрипта (скрипт должен называться по аналогии со stroykova_hw1.ipynb) -0.5 баллов\n",
    "2. Все строчки должны быть выполнены. Нужно, чтобы output команды можно было увидеть уже в git'е. В противном случае -0.5 баллов\n"
   ]
  },
  {
   "cell_type": "code",
   "execution_count": 1,
   "metadata": {},
   "outputs": [],
   "source": [
    "import numpy as np\n",
    "import matplotlib.pyplot as plt\n",
    "\n",
    "import seaborn as sns\n",
    "from sklearn import datasets\n",
    "from sklearn.base import BaseEstimator\n",
    "from sklearn.datasets import fetch_openml, fetch_20newsgroups\n",
    "\n",
    "from sklearn.model_selection import train_test_split\n",
    "from sklearn.neighbors import KNeighborsClassifier, KDTree\n",
    "from sklearn.metrics import accuracy_score"
   ]
  },
  {
   "cell_type": "markdown",
   "metadata": {},
   "source": [
    "##### Задание 1 (1 балл)\n",
    "Реализовать KNN в классе MyKNeighborsClassifier (обязательное условие: точность не ниже sklearn реализации)\n",
    "Разберитесь самостоятельно, какая мера расстояния используется в KNeighborsClassifier дефолтно и реализуйте свой алгоритм именно с этой мерой. \n",
    "Для подсчета расстояний можно использовать функции [отсюда](https://docs.scipy.org/doc/scipy/reference/spatial.distance.html)"
   ]
  },
  {
   "cell_type": "code",
   "execution_count": 2,
   "metadata": {},
   "outputs": [],
   "source": [
    "class MyKNeighborsClassifier(BaseEstimator):\n",
    "    \n",
    "    def __init__(self, n_neighbors, algorithm='brute'):\n",
    "        self.n_neighbors = n_neighbors\n",
    "        self.algorithm = algorithm\n",
    "    \n",
    "    def fit(self, X, y):\n",
    "        self.X_train = X\n",
    "        self.y_train = y\n",
    "        if self.algorithm == 'kd_tree':\n",
    "            self.tree = KDTree(self.X_train)\n",
    "    \n",
    "    def predict(self, X):\n",
    "        predictions = np.zeros((X.shape[0]))\n",
    "        if self.algorithm == 'brute':\n",
    "            for j, row in enumerate(X):\n",
    "                dist = ((self.X_train - row)**2).sum(axis=1)\n",
    "                best_indices = np.argsort(dist)[:self.n_neighbors]\n",
    "                best_predicts = self.y_train[best_indices]\n",
    "                predictions[j] = np.argmax(np.bincount(best_predicts))\n",
    "        elif self.algorithm == 'kd_tree':\n",
    "            _, best_indices = self.tree.query(X, k=self.n_neighbors)\n",
    "            best_predicts = self.y_train[best_indices]\n",
    "            predictions = np.apply_along_axis(lambda x: np.bincount(x).argmax(), axis=1, arr=best_predicts)\n",
    "        return predictions\n"
   ]
  },
  {
   "cell_type": "markdown",
   "metadata": {},
   "source": [
    "**IRIS**\n",
    "\n",
    "В библиотеке scikit-learn есть несколько датасетов из коробки. Один из них [Ирисы Фишера](https://ru.wikipedia.org/wiki/%D0%98%D1%80%D0%B8%D1%81%D1%8B_%D0%A4%D0%B8%D1%88%D0%B5%D1%80%D0%B0)"
   ]
  },
  {
   "cell_type": "code",
   "execution_count": 3,
   "metadata": {},
   "outputs": [],
   "source": [
    "iris = datasets.load_iris()"
   ]
  },
  {
   "cell_type": "code",
   "execution_count": 4,
   "metadata": {},
   "outputs": [],
   "source": [
    "X_train, X_test, y_train, y_test = train_test_split(iris.data, iris.target, test_size=0.1, stratify=iris.target)"
   ]
  },
  {
   "cell_type": "code",
   "execution_count": 5,
   "metadata": {},
   "outputs": [],
   "source": [
    "clf = KNeighborsClassifier(n_neighbors=2, algorithm='brute')\n",
    "my_clf = MyKNeighborsClassifier(n_neighbors=2, algorithm='brute')"
   ]
  },
  {
   "cell_type": "code",
   "execution_count": 6,
   "metadata": {},
   "outputs": [],
   "source": [
    "clf.fit(X_train, y_train)\n",
    "my_clf.fit(X_train, y_train)"
   ]
  },
  {
   "cell_type": "code",
   "execution_count": 7,
   "metadata": {},
   "outputs": [],
   "source": [
    "sklearn_pred = clf.predict(X_test)\n",
    "my_clf_pred = my_clf.predict(X_test)\n",
    "assert abs( accuracy_score(y_test, my_clf_pred) -  accuracy_score(y_test, sklearn_pred ) )<0.005, \"Score must be simillar\""
   ]
  },
  {
   "cell_type": "markdown",
   "metadata": {},
   "source": [
    "**Задание 2 (0.5 балла)**\n",
    "\n",
    "Давайте попробуем добиться скорости работы на fit, predict сравнимой со sklearn для iris. Допускается замедление не более чем в 2 раза. \n",
    "Для этого используем numpy. "
   ]
  },
  {
   "cell_type": "code",
   "execution_count": 8,
   "metadata": {},
   "outputs": [
    {
     "name": "stdout",
     "output_type": "stream",
     "text": [
      "297 µs ± 36.9 µs per loop (mean ± std. dev. of 7 runs, 1000 loops each)\n"
     ]
    }
   ],
   "source": [
    "%timeit clf.fit(X_train, y_train)"
   ]
  },
  {
   "cell_type": "code",
   "execution_count": 9,
   "metadata": {},
   "outputs": [
    {
     "name": "stdout",
     "output_type": "stream",
     "text": [
      "353 ns ± 12.7 ns per loop (mean ± std. dev. of 7 runs, 1000000 loops each)\n"
     ]
    }
   ],
   "source": [
    "%timeit my_clf.fit(X_train, y_train)"
   ]
  },
  {
   "cell_type": "code",
   "execution_count": 10,
   "metadata": {},
   "outputs": [
    {
     "name": "stdout",
     "output_type": "stream",
     "text": [
      "1.65 ms ± 80 µs per loop (mean ± std. dev. of 7 runs, 100 loops each)\n"
     ]
    }
   ],
   "source": [
    "%timeit clf.predict(X_test)"
   ]
  },
  {
   "cell_type": "code",
   "execution_count": 11,
   "metadata": {},
   "outputs": [
    {
     "name": "stdout",
     "output_type": "stream",
     "text": [
      "624 µs ± 8.56 µs per loop (mean ± std. dev. of 7 runs, 1000 loops each)\n"
     ]
    }
   ],
   "source": [
    "%timeit my_clf.predict(X_test)"
   ]
  },
  {
   "cell_type": "markdown",
   "metadata": {},
   "source": [
    "###### Задание 3 (1 балл)\n",
    "Добавьте algorithm='kd_tree' в реализацию KNN (использовать KDTree из sklearn.neighbors). Необходимо добиться скорости работы на fit,  predict сравнимой со sklearn для iris. Допускается замедление не более чем в 2 раза. \n",
    "Для этого используем numpy. Точность не должна уступать значению KNN из sklearn. "
   ]
  },
  {
   "cell_type": "code",
   "execution_count": 12,
   "metadata": {},
   "outputs": [],
   "source": [
    "clf = KNeighborsClassifier(n_neighbors=2, algorithm='kd_tree')\n",
    "my_clf = MyKNeighborsClassifier(n_neighbors=2, algorithm='kd_tree')"
   ]
  },
  {
   "cell_type": "code",
   "execution_count": 13,
   "metadata": {},
   "outputs": [],
   "source": [
    "X_train, X_test, y_train, y_test = train_test_split(iris.data, iris.target, test_size=0.1, stratify=iris.target)"
   ]
  },
  {
   "cell_type": "code",
   "execution_count": 14,
   "metadata": {},
   "outputs": [
    {
     "name": "stdout",
     "output_type": "stream",
     "text": [
      "654 µs ± 41.8 µs per loop (mean ± std. dev. of 7 runs, 1000 loops each)\n"
     ]
    }
   ],
   "source": [
    "%timeit clf.fit(X_train, y_train)"
   ]
  },
  {
   "cell_type": "code",
   "execution_count": 15,
   "metadata": {},
   "outputs": [
    {
     "name": "stdout",
     "output_type": "stream",
     "text": [
      "264 µs ± 12 µs per loop (mean ± std. dev. of 7 runs, 1000 loops each)\n"
     ]
    }
   ],
   "source": [
    "%timeit my_clf.fit(X_train, y_train)"
   ]
  },
  {
   "cell_type": "code",
   "execution_count": 16,
   "metadata": {},
   "outputs": [
    {
     "name": "stdout",
     "output_type": "stream",
     "text": [
      "1.81 ms ± 59.2 µs per loop (mean ± std. dev. of 7 runs, 1000 loops each)\n"
     ]
    }
   ],
   "source": [
    "%timeit clf.predict(X_test)"
   ]
  },
  {
   "cell_type": "code",
   "execution_count": 17,
   "metadata": {},
   "outputs": [
    {
     "name": "stdout",
     "output_type": "stream",
     "text": [
      "440 µs ± 48.8 µs per loop (mean ± std. dev. of 7 runs, 1000 loops each)\n"
     ]
    }
   ],
   "source": [
    "%timeit my_clf.predict(X_test)"
   ]
  },
  {
   "cell_type": "code",
   "execution_count": 18,
   "metadata": {},
   "outputs": [],
   "source": [
    "sklearn_pred = clf.predict(X_test)\n",
    "my_clf_pred = my_clf.predict(X_test)\n",
    "assert abs( accuracy_score(y_test, my_clf_pred) -  accuracy_score(y_test, sklearn_pred ) )<0.005, \"Score must be simillar\""
   ]
  },
  {
   "cell_type": "markdown",
   "metadata": {},
   "source": [
    "**Задание 4 (2.5 балла)**\n",
    "\n",
    "Рассмотрим новый датасет 20 newsgroups"
   ]
  },
  {
   "cell_type": "code",
   "execution_count": 19,
   "metadata": {},
   "outputs": [],
   "source": [
    "newsgroups = fetch_20newsgroups(subset='train',remove=['headers','footers', 'quotes'])"
   ]
  },
  {
   "cell_type": "code",
   "execution_count": 20,
   "metadata": {},
   "outputs": [],
   "source": [
    "data = newsgroups['data']\n",
    "target = newsgroups['target']"
   ]
  },
  {
   "cell_type": "markdown",
   "metadata": {},
   "source": [
    "Преобразуйте текстовые данные из data с помощью [CountVectorizer](https://scikit-learn.org/stable/modules/generated/sklearn.feature_extraction.text.CountVectorizer.html). Словарь можно ограничить по частотности."
   ]
  },
  {
   "cell_type": "code",
   "execution_count": 21,
   "metadata": {},
   "outputs": [],
   "source": [
    "from sklearn.feature_extraction.text import CountVectorizer\n",
    "\n",
    "vectorizer = CountVectorizer(max_features=50)\n",
    "X = vectorizer.fit_transform(data).toarray()"
   ]
  },
  {
   "cell_type": "markdown",
   "metadata": {},
   "source": [
    "*Так мы получили векторное представление наших текстов. Значит можно приступать к задаче обучения модели*"
   ]
  },
  {
   "cell_type": "markdown",
   "metadata": {},
   "source": [
    "Реализуйте разбиение выборки для кросс-валидации на 3 фолдах. Разрешено использовать sklearn.cross_validation"
   ]
  },
  {
   "cell_type": "code",
   "execution_count": 22,
   "metadata": {},
   "outputs": [],
   "source": [
    "from sklearn.model_selection import KFold\n",
    "\n",
    "kf = KFold(n_splits=3, shuffle=True, random_state=42)"
   ]
  },
  {
   "cell_type": "markdown",
   "metadata": {},
   "source": [
    "Напишите метод, позволяющий найти оптимальное количество ближайших соседей(дающее максимальную точность в среднем на валидации на 3 фолдах).\n",
    "Постройте график зависимости средней точности от количества соседей. Можно рассмотреть число соседей от 1 до 10."
   ]
  },
  {
   "cell_type": "code",
   "execution_count": 23,
   "metadata": {},
   "outputs": [],
   "source": [
    "def optimal_k(X, y, size=10, metric='euclidean'):\n",
    "    val_scores = []\n",
    "    for k in range(1, size + 1):\n",
    "        clf = KNeighborsClassifier(n_neighbors=k, metric=metric)\n",
    "        acc_scores = []\n",
    "        for train, test in kf.split(X):\n",
    "            X_train, X_test = X[train], X[test]\n",
    "            y_train, y_test = target[train], target[test]\n",
    "            clf.fit(X_train, y_train)\n",
    "            y_pred = clf.predict(X_test)\n",
    "            acc_scores.append(accuracy_score(y_test, y_pred))\n",
    "        val_scores.append(np.mean(acc_scores))\n",
    "        print(f\"k = {k}, score = {val_scores[-1]}\")\n",
    "    best_k, best_score = np.argmax(val_scores) + 1, np.max(val_scores)\n",
    "    \n",
    "    plt.figure(figsize=(11, 6))\n",
    "    plt.plot(range(1, size + 1), val_scores)\n",
    "    plt.plot(best_k, best_score, 'ro')\n",
    "    plt.title(f\"best_k = {best_k}, best_score = {np.round(best_score, 4)}, metric = {metric}\")\n",
    "    plt.xlabel('k')\n",
    "    plt.ylabel('score')\n",
    "    \n",
    "    return best_k, best_score"
   ]
  },
  {
   "cell_type": "code",
   "execution_count": 24,
   "metadata": {},
   "outputs": [
    {
     "name": "stdout",
     "output_type": "stream",
     "text": [
      "k = 1, score = 0.1252433058037474\n",
      "k = 2, score = 0.11693446826204972\n",
      "k = 3, score = 0.11720009516168628\n",
      "k = 4, score = 0.12276848798372803\n",
      "k = 5, score = 0.12382916771300466\n",
      "k = 6, score = 0.12656912031401105\n",
      "k = 7, score = 0.13010471160019269\n",
      "k = 8, score = 0.1279828600229899\n",
      "k = 9, score = 0.13107669280144774\n",
      "k = 10, score = 0.1308999987720468\n",
      "k = 11, score = 0.1304577950141163\n",
      "k = 12, score = 0.13178358609015858\n",
      "k = 13, score = 0.1327557781994063\n",
      "k = 14, score = 0.13098815831297603\n",
      "k = 15, score = 0.13240189802195487\n",
      "k = 16, score = 0.13275549698874942\n",
      "k = 17, score = 0.13293261283413568\n",
      "k = 18, score = 0.13602614096771523\n",
      "k = 19, score = 0.13593777051879333\n",
      "k = 20, score = 0.1371750974090281\n",
      "k = 21, score = 0.13797066579153913\n",
      "k = 22, score = 0.13894309224300086\n",
      "k = 23, score = 0.14088766393526755\n",
      "k = 24, score = 0.14115298619002584\n",
      "k = 25, score = 0.14124138007316914\n",
      "k = 26, score = 0.14221371278774528\n",
      "k = 27, score = 0.14141819127367714\n",
      "k = 28, score = 0.14265533069014064\n",
      "k = 29, score = 0.14362756966783116\n",
      "k = 30, score = 0.1440695156493262\n",
      "Wall time: 2min 21s\n"
     ]
    },
    {
     "data": {
      "text/plain": [
       "(30, 0.1440695156493262)"
      ]
     },
     "execution_count": 24,
     "metadata": {},
     "output_type": "execute_result"
    },
    {
     "data": {
      "image/png": "[encoded data removed]",
      "text/plain": [
       "<Figure size 792x432 with 1 Axes>"
      ]
     },
     "metadata": {
      "needs_background": "light"
     },
     "output_type": "display_data"
    }
   ],
   "source": [
    "%%time\n",
    "best_k, best_score = optimal_k(X, target, size=30)\n",
    "best_k, best_score"
   ]
  },
  {
   "cell_type": "markdown",
   "metadata": {},
   "source": [
    "Как изменится качество на валидации, если:\n",
    "\n",
    "1. Используется косинусная метрика вместо евклидовой.\n",
    "2. К текстам применяется TfIdf векторизацию( sklearn.feature_extraction.text.TfidfVectorizer)\n",
    "\n",
    "Сравните модели, выберите лучшую."
   ]
  },
  {
   "cell_type": "code",
   "execution_count": 25,
   "metadata": {},
   "outputs": [
    {
     "name": "stdout",
     "output_type": "stream",
     "text": [
      "k = 1, score = 0.14813514215526782\n",
      "k = 2, score = 0.1393850147902745\n",
      "k = 3, score = 0.1417715324640362\n",
      "k = 4, score = 0.14132975052209104\n",
      "k = 5, score = 0.14548360687162612\n",
      "k = 6, score = 0.1454838646480616\n",
      "k = 7, score = 0.14707467333398386\n",
      "k = 8, score = 0.14946112070508136\n",
      "k = 9, score = 0.15343872827542224\n",
      "k = 10, score = 0.1541457856036829\n",
      "k = 11, score = 0.15662097837124475\n",
      "k = 12, score = 0.1552947654792172\n",
      "k = 13, score = 0.15485288980038636\n",
      "k = 14, score = 0.15564852848556157\n",
      "k = 15, score = 0.15538339370457452\n",
      "k = 16, score = 0.15609068537504925\n",
      "k = 17, score = 0.15697429612738242\n",
      "k = 18, score = 0.15538344057301734\n",
      "k = 19, score = 0.15502972443511576\n",
      "k = 20, score = 0.15405750889164663\n",
      "k = 21, score = 0.1530853167823989\n",
      "k = 22, score = 0.15317387470509206\n",
      "k = 23, score = 0.154411271897991\n",
      "k = 24, score = 0.1545877315851779\n",
      "k = 25, score = 0.15202444957935105\n",
      "k = 26, score = 0.15326165929847876\n",
      "k = 27, score = 0.15140545805513397\n",
      "k = 28, score = 0.1511405810505824\n",
      "k = 29, score = 0.1501684123755561\n",
      "k = 30, score = 0.1514059736080049\n",
      "Wall time: 3min 10s\n"
     ]
    },
    {
     "data": {
      "text/plain": [
       "(17, 0.15697429612738242)"
      ]
     },
     "execution_count": 25,
     "metadata": {},
     "output_type": "execute_result"
    },
    {
     "data": {
      "image/png": "[encoded data removed]",
      "text/plain": [
       "<Figure size 792x432 with 1 Axes>"
      ]
     },
     "metadata": {
      "needs_background": "light"
     },
     "output_type": "display_data"
    }
   ],
   "source": [
    "%%time\n",
    "best_k, best_score = optimal_k(X, target, size=30, metric='cosine')\n",
    "best_k, best_score"
   ]
  },
  {
   "cell_type": "code",
   "execution_count": 26,
   "metadata": {},
   "outputs": [],
   "source": [
    "from sklearn.feature_extraction.text import TfidfVectorizer\n",
    "\n",
    "vectorizer = TfidfVectorizer(max_features=50)\n",
    "X = vectorizer.fit_transform(data).toarray()"
   ]
  },
  {
   "cell_type": "code",
   "execution_count": 27,
   "metadata": {},
   "outputs": [
    {
     "name": "stdout",
     "output_type": "stream",
     "text": [
      "k = 1, score = 0.15458716916386417\n",
      "k = 2, score = 0.14424606907339874\n",
      "k = 3, score = 0.14707425151799855\n",
      "k = 4, score = 0.14557221166276205\n",
      "k = 5, score = 0.1471631609540128\n",
      "k = 6, score = 0.15246648929773168\n",
      "k = 7, score = 0.15414538722191898\n",
      "k = 8, score = 0.1565319048956807\n",
      "k = 9, score = 0.15609005265107131\n",
      "k = 10, score = 0.1582997122558822\n",
      "k = 11, score = 0.15626695758846487\n",
      "k = 12, score = 0.15847642971950457\n",
      "k = 13, score = 0.15918369795575785\n",
      "k = 14, score = 0.15989080215246135\n",
      "k = 15, score = 0.15971387378084634\n",
      "k = 16, score = 0.15989075528401855\n",
      "k = 17, score = 0.15891889125387051\n",
      "k = 18, score = 0.1567091847806168\n",
      "k = 19, score = 0.1575928658356142\n",
      "k = 20, score = 0.15750409700492843\n",
      "k = 21, score = 0.15900683988680708\n",
      "k = 22, score = 0.15838805927058267\n",
      "k = 23, score = 0.16006735557653387\n",
      "k = 24, score = 0.16059769544117217\n",
      "k = 25, score = 0.16218843382443027\n",
      "k = 26, score = 0.162365174722274\n",
      "k = 27, score = 0.16121638232051097\n",
      "k = 28, score = 0.16006758991874792\n",
      "k = 29, score = 0.1594488093025235\n",
      "k = 30, score = 0.15962538616081745\n",
      "Wall time: 2min 48s\n"
     ]
    },
    {
     "data": {
      "text/plain": [
       "(26, 0.162365174722274)"
      ]
     },
     "execution_count": 27,
     "metadata": {},
     "output_type": "execute_result"
    },
    {
     "data": {
      "image/png": "[encoded data removed]",
      "text/plain": [
       "<Figure size 792x432 with 1 Axes>"
      ]
     },
     "metadata": {
      "needs_background": "light"
     },
     "output_type": "display_data"
    }
   ],
   "source": [
    "%%time\n",
    "best_k, best_score = optimal_k(X, target, size=30)\n",
    "best_k, best_score"
   ]
  },
  {
   "cell_type": "code",
   "execution_count": 28,
   "metadata": {},
   "outputs": [
    {
     "name": "stdout",
     "output_type": "stream",
     "text": [
      "k = 1, score = 0.1556478488931408\n",
      "k = 2, score = 0.14512996103638873\n",
      "k = 3, score = 0.14698581076641246\n",
      "k = 4, score = 0.14574909316593423\n",
      "k = 5, score = 0.14804709978544564\n",
      "k = 6, score = 0.15273164751294013\n",
      "k = 7, score = 0.15449893932027073\n",
      "k = 8, score = 0.15688543355981102\n",
      "k = 9, score = 0.15653195176412352\n",
      "k = 10, score = 0.15829966538743936\n",
      "k = 11, score = 0.1566204862525952\n",
      "k = 12, score = 0.15874156450049162\n",
      "k = 13, score = 0.15944880930252353\n",
      "k = 14, score = 0.1600675430503051\n",
      "k = 15, score = 0.1606861361927583\n",
      "k = 16, score = 0.16015589006500558\n",
      "k = 17, score = 0.15847685153548988\n",
      "k = 18, score = 0.15617875117909286\n",
      "k = 19, score = 0.15706243223409025\n",
      "k = 20, score = 0.15653181115879508\n",
      "k = 21, score = 0.1578578365770514\n",
      "k = 22, score = 0.15829961851899657\n",
      "k = 23, score = 0.15997891482494778\n",
      "k = 24, score = 0.16050923125536468\n",
      "k = 25, score = 0.16201159918970084\n",
      "k = 26, score = 0.1623651278538312\n",
      "k = 27, score = 0.16112794156892488\n",
      "k = 28, score = 0.15971396751773198\n",
      "k = 29, score = 0.15900679301836426\n",
      "k = 30, score = 0.15918336987665818\n",
      "Wall time: 2min 56s\n"
     ]
    },
    {
     "data": {
      "text/plain": [
       "(26, 0.1623651278538312)"
      ]
     },
     "execution_count": 28,
     "metadata": {},
     "output_type": "execute_result"
    },
    {
     "data": {
      "image/png": "[encoded data removed]",
      "text/plain": [
       "<Figure size 792x432 with 1 Axes>"
      ]
     },
     "metadata": {
      "needs_background": "light"
     },
     "output_type": "display_data"
    }
   ],
   "source": [
    "%%time\n",
    "best_k, best_score = optimal_k(X, target, size=30, metric='cosine')\n",
    "best_k, best_score"
   ]
  },
  {
   "cell_type": "markdown",
   "metadata": {},
   "source": [
    "Лучшая модель - с косинусной метрикой и TfidfVectorizer при k=26. Качество на валидации незначительно, но лучше."
   ]
  },
  {
   "cell_type": "markdown",
   "metadata": {},
   "source": [
    "Загрузим  теперь test  часть нашей выборки и преобразуем её аналогично с train частью. Не забудьте, что наборы слов в train и test части могут отличаться."
   ]
  },
  {
   "cell_type": "code",
   "execution_count": 29,
   "metadata": {},
   "outputs": [],
   "source": [
    "newsgroups = fetch_20newsgroups(subset='test',remove=['headers','footers', 'quotes'])"
   ]
  },
  {
   "cell_type": "code",
   "execution_count": 30,
   "metadata": {},
   "outputs": [],
   "source": [
    "data_test = newsgroups['data']\n",
    "target_test = newsgroups['target']"
   ]
  },
  {
   "cell_type": "code",
   "execution_count": 31,
   "metadata": {},
   "outputs": [],
   "source": [
    "vectorizer = TfidfVectorizer(max_features=50)\n",
    "X_test = vectorizer.fit_transform(data_test).toarray()"
   ]
  },
  {
   "cell_type": "markdown",
   "metadata": {},
   "source": [
    "Оценим точность вашей лучшей модели на test части датасета. Отличается ли оно от кросс-валидации? Попробуйте сделать выводы, почему отличается качество."
   ]
  },
  {
   "cell_type": "code",
   "execution_count": 32,
   "metadata": {},
   "outputs": [
    {
     "data": {
      "text/plain": [
       "KNeighborsClassifier(metric='cosine', n_neighbors=26)"
      ]
     },
     "execution_count": 32,
     "metadata": {},
     "output_type": "execute_result"
    }
   ],
   "source": [
    "clf = KNeighborsClassifier(n_neighbors=26, metric='cosine')\n",
    "clf.fit(X, target)"
   ]
  },
  {
   "cell_type": "code",
   "execution_count": 33,
   "metadata": {},
   "outputs": [
    {
     "data": {
      "text/plain": [
       "0.08789166224110462"
      ]
     },
     "execution_count": 33,
     "metadata": {},
     "output_type": "execute_result"
    }
   ],
   "source": [
    "y_pred = clf.predict(X_test)\n",
    "accuracy_score(target_test, y_pred)"
   ]
  },
  {
   "cell_type": "markdown",
   "metadata": {},
   "source": [
    "**Вывод:** Точность на тестовой выборке в 2 раза меньше. Это может быть связано с тем, что в тестовой выборке есть наборы слов, которых нет в тренировочной, т.е. тренировочная слабо описывает тестовую. Также в этой задаче достаточно большое пространство признаков, которые при этом разрежены, поэтому KNN слабо справляется с ее решением."
   ]
  },
  {
   "cell_type": "code",
   "execution_count": null,
   "metadata": {},
   "outputs": [],
   "source": []
  }
 ],
 "metadata": {
  "kernelspec": {
   "display_name": "Python 3",
   "language": "python",
   "name": "python3"
  },
  "language_info": {
   "codemirror_mode": {
    "name": "ipython",
    "version": 3
   },
   "file_extension": ".py",
   "mimetype": "text/x-python",
   "name": "python",
   "nbconvert_exporter": "python",
   "pygments_lexer": "ipython3",
   "version": "3.8.8"
  }
 },
 "nbformat": 4,
 "nbformat_minor": 2
}