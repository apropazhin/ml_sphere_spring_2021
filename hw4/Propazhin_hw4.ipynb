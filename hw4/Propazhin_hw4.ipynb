{
 "cells": [
  {
   "cell_type": "markdown",
   "metadata": {
    "id": "PCBp7jKUW_9Q"
   },
   "source": [
    "### Алгоритмы интеллектуальной обработки больших объемов данных\n",
    "## Домашнее задание №4 - Градиентный бустинг\n"
   ]
  },
  {
   "cell_type": "markdown",
   "metadata": {
    "id": "JQq3ZjzMW_9W"
   },
   "source": [
    "**Общая информация**\n",
    "\n",
    "**Срок сдачи:** 10 мая 2021, 08:30   \n",
    "**Штраф за опоздание:** -2 балла после 08:30 10 мая, -4 балла после 08:30 17 мая, -6 баллов после 08:30 24 мая, -8 баллов после 08:30 31 мая.\n",
    "\n",
    "При отправлении ДЗ указывайте фамилию в названии файла Присылать ДЗ необходимо в виде ссылки на свой github репозиторий на почту ml1.sphere@mail.ru с указанием темы в следующем формате:\n",
    "[ML0221, Задание 4] Фамилия Имя. \n",
    "\n",
    "\n",
    "Используйте данный Ipython Notebook при оформлении домашнего задания."
   ]
  },
  {
   "cell_type": "markdown",
   "metadata": {
    "id": "CjjcivKHW_9X"
   },
   "source": [
    "##  Считаем производные для функций потерь (1 балл)"
   ]
  },
  {
   "cell_type": "markdown",
   "metadata": {
    "id": "BW8zMdvmW_9Y"
   },
   "source": [
    "Мы будем реализовать градиентный бустинг для 3 функций потерь:\n",
    "\n",
    "1) MSE  $L(a(x_i), y_i) = (y_i - a(x_i)) ^ 2$\n",
    "\n",
    "2) Экспоненциальная  $L(a(x_i), y_i) = exp( -a(x_i) y_i), y_i \\in \\{-1, 1\\}$\n",
    "\n",
    "3) Логистическая  $L(a(x_i), y_i) = \\log (1 + exp( -a(x_i) y_i)), y_i \\in \\{-1, 1\\}$\n",
    "\n",
    "где $a(x_i)$ предсказание бустинга на итом объекте. \n",
    "\n",
    "Для каждой функции потерь напишите таргет, на который будет настраиваться каждое дерево в бустинге. "
   ]
  },
  {
   "cell_type": "markdown",
   "metadata": {
    "id": "4EjCvrj8W_9Y"
   },
   "source": [
    "1) $$-\\frac{dL}{da} = 2 (y_i-a(x_i))^2$$ \\\n",
    "2) $$-\\frac{dL}{da} = y_i exp(-a(x_i)y_i)$$ \\\n",
    "3) $$-\\frac{dL}{da} = \\frac{y_i exp(-a(x_i)y_i)}{1 + exp(-a(x_i)y_i)}$$"
   ]
  },
  {
   "cell_type": "markdown",
   "metadata": {
    "id": "YAIaZkC2W_9Z"
   },
   "source": [
    "##  Реализуем градиентный бустинг (3 балла)"
   ]
  },
  {
   "cell_type": "markdown",
   "metadata": {
    "id": "5ShmxtmWW_9Z"
   },
   "source": [
    "Реализуйте класс градиентного бустинга для классификации. Ваша реализация бустинга должна работать по точности не более чем на 5 процентов хуже чем GradientBoostingClassifier из sklearn. \n"
   ]
  },
  {
   "cell_type": "markdown",
   "metadata": {
    "id": "TlFKJnBLW_9a"
   },
   "source": [
    "Детали реализации:\n",
    "\n",
    "-- должно поддерживаться 3 функции потерь\n",
    "\n",
    "-- сами базовые алгоритмы(деревья, линейные модели и тп) реализовать не надо, просто возьмите готовые из sklearn\n",
    "\n",
    "-- в качестве функции потерь для построения одного дерева используйте MSE\n",
    "\n",
    "-- шаг в бустинге можно не подбирать, можно брать константный\n",
    "\n",
    "-- можно брать разные модели в качестве инициализации бустинга\n",
    "\n",
    "-- должны поддерживаться следующие параметры:\n",
    "\n",
    "а) число итераций \\\n",
    "б) размер шага \\\n",
    "в) процент случайных фичей при построении одного дерева \\\n",
    "д) процент случайных объектов при построении одного дерева \\\n",
    "е) параметры базового алгоритма (передавайте через **kwargs)"
   ]
  },
  {
   "cell_type": "code",
   "execution_count": 1,
   "metadata": {
    "id": "ETV3fEDxW_9b"
   },
   "outputs": [],
   "source": [
    "import numpy as np\n",
    "import matplotlib.pyplot as plt\n",
    "\n",
    "from sklearn.datasets import load_wine\n",
    "from sklearn.ensemble import GradientBoostingClassifier\n",
    "from sklearn.metrics import accuracy_score\n",
    "from sklearn.model_selection import train_test_split\n",
    "from sklearn.tree import DecisionTreeRegressor\n",
    "from sklearn.model_selection import KFold\n",
    "\n",
    "np.random.seed(42)"
   ]
  },
  {
   "cell_type": "code",
   "execution_count": 29,
   "metadata": {
    "id": "H6W0z-sIW_9c"
   },
   "outputs": [],
   "source": [
    "class MyGradientBoostingClassifier:\n",
    "\n",
    "    def __init__(self, loss='MSE', learning_rate=0.01, n_estimators=100, \n",
    "                 colsample=1.0, subsample=1.0, *args, **kwargs):\n",
    "        \"\"\"\n",
    "        loss -- один из 3 лоссов:\n",
    "        learning_rate -- шаг бустинга\n",
    "        n_estimators -- число итераций\n",
    "        colsample -- процент рандомных признаков при обучнеии одного алгоритма\n",
    "        colsample -- процент рандомных объектов при обучнеии одного алгоритма\n",
    "        args, kwargs -- параметры  базовых моделей\n",
    "        \"\"\"\n",
    "        # Ваш код здесь\n",
    "        self.learning_rate = learning_rate\n",
    "        self.n_estimators = n_estimators\n",
    "        self.colsample = colsample\n",
    "        self.subsample = subsample\n",
    "        self.params = args\n",
    "        self.kwparams = kwargs\n",
    "        self.models = []\n",
    "        self.features = []\n",
    "        if loss == 'MSE':\n",
    "            self.__loss = lambda true, pred: (true - pred) ** 2\n",
    "            self.__grad = lambda true, pred: 2 * (true - pred)\n",
    "        elif loss == 'exp':\n",
    "            self.__loss = lambda true, pred: np.exp(-true * pred)\n",
    "            self.__grad = lambda true, pred: true * np.exp(-true * pred)\n",
    "        elif loss == 'log':\n",
    "            self.__loss = lambda true, pred: np.log(1 + np.exp(-pred * true))\n",
    "            self.__grad = lambda true, pred: true * np.exp(-true * pred) /\\\n",
    "                                             (1 + np.exp(-pred * true))\n",
    "    \n",
    "    def fit(self, X, y, base_model=DecisionTreeRegressor, init_model=None):\n",
    "        \"\"\"\n",
    "        X -- объекты для обучения:\n",
    "        y -- таргеты для обучения\n",
    "        base_model -- класс базовых моделей, например sklearn.tree.DecisionTreeRegressor\n",
    "        init_model -- класс для первой модели, если None то берем константу (только для посл задания)\n",
    "        \"\"\"\n",
    "        # Ваш код здесь\n",
    "        if init_model is None:\n",
    "            self.init_model = None\n",
    "            pred = np.ones(X.shape[0]) / X.shape[0]\n",
    "        else:\n",
    "            model = init_model()\n",
    "            model.fit(X, y)\n",
    "            self.init_model = model\n",
    "            pred = model.predict(X)\n",
    "            pred = pred.astype(float)\n",
    "        \n",
    "        for i in range(self.n_estimators):\n",
    "            features_num = int(self.colsample * X.shape[1])\n",
    "            features = np.random.randint(0, X.shape[1], size=features_num)\n",
    "            objects_num = int(self.subsample * X.shape[0])\n",
    "            objects = np.random.randint(0, X.shape[0], size=objects_num)\n",
    "\n",
    "            model = base_model(*self.params, **self.kwparams)\n",
    "            X_iter = X[objects]\n",
    "            model.fit(X_iter[:, features], self.__grad(y[objects], pred[objects]))\n",
    "\n",
    "            pred += self.learning_rate * model.predict(X[:, features])\n",
    "            self.models.append(model)\n",
    "            self.features.append(features)\n",
    "        \n",
    "    def predict(self, X):\n",
    "        # Ваш код здесь\n",
    "        if self.init_model is None:\n",
    "            pred = np.ones(X.shape[0]) / X.shape[0]\n",
    "        else:\n",
    "            pred = self.init_model.predict(X).astype(float)\n",
    "            \n",
    "        for i in range(len(self.models)):\n",
    "            pred += self.learning_rate * self.models[i].predict(X[:, self.features[i]])\n",
    "        return np.round(pred)\n"
   ]
  },
  {
   "cell_type": "code",
   "execution_count": 3,
   "metadata": {
    "id": "4ZbqWdJeW_9d"
   },
   "outputs": [],
   "source": [
    "wine = load_wine()\n",
    "X_train, X_test, y_train, y_test = train_test_split(wine.data, wine.target, test_size=0.2, \n",
    "                                                    stratify=wine.target, random_state=42)"
   ]
  },
  {
   "cell_type": "code",
   "execution_count": 4,
   "metadata": {
    "colab": {
     "base_uri": "https://localhost:8080/"
    },
    "id": "239DnunKW_9e",
    "outputId": "533b1128-728d-4e0f-b37b-36d61fd412ea"
   },
   "outputs": [
    {
     "name": "stdout",
     "output_type": "stream",
     "text": [
      "0.9444444444444444\n",
      "0.9722222222222222\n"
     ]
    }
   ],
   "source": [
    "clf = GradientBoostingClassifier()\n",
    "my_clf = MyGradientBoostingClassifier()\n",
    "\n",
    "clf.fit(X_train, y_train)\n",
    "my_clf.fit(X_train, y_train)\n",
    "\n",
    "print(accuracy_score(y_pred=clf.predict(X_test), y_true=y_test))\n",
    "print(accuracy_score(y_pred=my_clf.predict(X_test), y_true=y_test))"
   ]
  },
  {
   "cell_type": "markdown",
   "metadata": {
    "id": "5j-SfSZzW_9g"
   },
   "source": [
    "## Подбираем параметры (2 балла)\n",
    "\n",
    "Давайте попробуем применить Ваш бустинг для предсказаний цены домов в Калифорнии. Чтобы можно было попробовтаь разные функции потерь, переведем по порогу таргет в 2 класса: дорогие и дешевые дома."
   ]
  },
  {
   "cell_type": "markdown",
   "metadata": {
    "id": "6fc0THzhW_9g"
   },
   "source": [
    "В задании нужно\n",
    "\n",
    "1) Построить график точности в зависимости от числа итераций на валидации.\n",
    "\n",
    "2) Подобрать оптимальные параметры Вашего бустинга на валидации. \n"
   ]
  },
  {
   "cell_type": "code",
   "execution_count": 5,
   "metadata": {
    "id": "OE2nqDmgW_9h"
   },
   "outputs": [],
   "source": [
    "from sklearn.datasets import fetch_california_housing\n",
    "X, y = fetch_california_housing(return_X_y=True)"
   ]
  },
  {
   "cell_type": "code",
   "execution_count": 6,
   "metadata": {
    "colab": {
     "base_uri": "https://localhost:8080/"
    },
    "id": "im-dQANSW_9h",
    "outputId": "775be450-9943-4d37-bf26-60a7205b2c03"
   },
   "outputs": [
    {
     "name": "stdout",
     "output_type": "stream",
     "text": [
      "(20640, 8) (20640,)\n"
     ]
    }
   ],
   "source": [
    "# Превращаем регрессию в классификацию\n",
    "y = (y > 2.0).astype(int)\n",
    "print(X.shape, y.shape)"
   ]
  },
  {
   "cell_type": "markdown",
   "metadata": {
    "id": "7t20qOB6Zqik"
   },
   "source": [
    "Будем искать оптимальные параметры на валидации отдельно друг от друга, поскольку полный перебор занимает много времени"
   ]
  },
  {
   "cell_type": "code",
   "execution_count": 7,
   "metadata": {
    "id": "V2N9OKtxYrK-"
   },
   "outputs": [],
   "source": [
    "best_params = {}"
   ]
  },
  {
   "cell_type": "code",
   "execution_count": 8,
   "metadata": {
    "colab": {
     "base_uri": "https://localhost:8080/"
    },
    "id": "m2ZhOfAiW_9h",
    "outputId": "416927a9-4fae-40e8-88a4-9c05d4b7210c"
   },
   "outputs": [
    {
     "name": "stdout",
     "output_type": "stream",
     "text": [
      "0.5780523255813953\n",
      "0.7267926356589148\n",
      "0.8651162790697674\n",
      "0.8865310077519379\n",
      "0.8900193798449613\n"
     ]
    }
   ],
   "source": [
    "score = []\n",
    "grid = np.arange(10, 150, 30)\n",
    "for n_estimators in grid:\n",
    "    est_score = []\n",
    "    for train, val in KFold(n_splits=3, shuffle=True).split(X, y):\n",
    "        my_clf = MyGradientBoostingClassifier(n_estimators=n_estimators)\n",
    "        my_clf.fit(X[train], y[train])\n",
    "        est_score.append(accuracy_score(y[val], my_clf.predict(X[val])))\n",
    "    print(np.mean(est_score))\n",
    "    score.append(np.mean(est_score))\n",
    "\n",
    "best_params['n_estimators'] = grid[np.argmax(score)]"
   ]
  },
  {
   "cell_type": "code",
   "execution_count": 9,
   "metadata": {
    "colab": {
     "base_uri": "https://localhost:8080/",
     "height": 351
    },
    "id": "g1KEgbAyW_9i",
    "outputId": "54b86b20-a272-4d15-bd40-9b621be1b069"
   },
   "outputs": [
    {
     "data": {
      "image/png": "[encoded data removed]",
      "text/plain": [
       "<Figure size 864x360 with 1 Axes>"
      ]
     },
     "metadata": {
      "needs_background": "light",
      "tags": []
     },
     "output_type": "display_data"
    }
   ],
   "source": [
    "plt.figure(figsize=(12, 5))\n",
    "plt.plot(grid, score)\n",
    "plt.xlabel('n_estimators')\n",
    "plt.ylabel('score')\n",
    "plt.title('Val score for different n_estimators')\n",
    "plt.show()"
   ]
  },
  {
   "cell_type": "markdown",
   "metadata": {},
   "source": [
    "При дальнейшем увеличении количества n_estimators скор будет расти медленно и обучение будет происходить существенно дольше. Выберем оптимальный вариант между качеством и скоростью работы."
   ]
  },
  {
   "cell_type": "code",
   "execution_count": 10,
   "metadata": {
    "colab": {
     "base_uri": "https://localhost:8080/"
    },
    "id": "McZFPtkgW_9i",
    "outputId": "537614d3-5a0d-4c17-b374-3d30c1662a74"
   },
   "outputs": [
    {
     "name": "stdout",
     "output_type": "stream",
     "text": [
      "0.8906492248062016\n",
      "0.8839147286821705\n",
      "0.7205910852713178\n"
     ]
    }
   ],
   "source": [
    "score = []\n",
    "grid = ['MSE', 'exp', 'log']\n",
    "for loss in grid:\n",
    "    est_score = []\n",
    "    for train, val in KFold(n_splits=3, shuffle=True).split(X, y):\n",
    "        my_clf = MyGradientBoostingClassifier(n_estimators=best_params['n_estimators'],\n",
    "                                              loss=loss)\n",
    "        my_clf.fit(X[train], y[train])\n",
    "        est_score.append(accuracy_score(y[val], my_clf.predict(X[val])))\n",
    "    print(np.mean(est_score))\n",
    "    score.append(np.mean(est_score))\n",
    "\n",
    "best_params['loss'] = grid[np.argmax(score)]"
   ]
  },
  {
   "cell_type": "code",
   "execution_count": 11,
   "metadata": {
    "colab": {
     "base_uri": "https://localhost:8080/"
    },
    "id": "LKZBohUUW_9j",
    "outputId": "1dbff83d-230f-4fbd-f9af-4145ea61eed7"
   },
   "outputs": [
    {
     "name": "stdout",
     "output_type": "stream",
     "text": [
      "0.855765503875969\n",
      "0.8890019379844961\n",
      "0.8772286821705427\n",
      "0.8669573643410852\n",
      "0.5255813953488372\n"
     ]
    }
   ],
   "source": [
    "score = []\n",
    "grid = [0.005, 0.01, 0.05, 0.1, 0.5]\n",
    "for lr in grid:\n",
    "    est_score = []\n",
    "    for train, val in KFold(n_splits=3, shuffle=True).split(X, y):\n",
    "        my_clf = MyGradientBoostingClassifier(n_estimators=best_params['n_estimators'],\n",
    "                                              loss=best_params['loss'],\n",
    "                                              learning_rate=lr)\n",
    "        my_clf.fit(X[train], y[train])\n",
    "        est_score.append(accuracy_score(y[val], my_clf.predict(X[val])))\n",
    "    print(np.mean(est_score))\n",
    "    score.append(np.mean(est_score))\n",
    "\n",
    "best_params['learning_rate'] = grid[np.argmax(score)]"
   ]
  },
  {
   "cell_type": "code",
   "execution_count": 12,
   "metadata": {
    "colab": {
     "base_uri": "https://localhost:8080/"
    },
    "id": "-GpPQ6-CW_9j",
    "outputId": "f2de4fa6-33fa-437a-f3dd-87127a9a0b09"
   },
   "outputs": [
    {
     "name": "stdout",
     "output_type": "stream",
     "text": [
      "0.8896802325581395\n",
      "0.8905038759689923\n",
      "0.8749515503875968\n",
      "0.8238856589147288\n"
     ]
    }
   ],
   "source": [
    "score = []\n",
    "grid = [1, 0.75, 0.5, 0.25]\n",
    "for cols in grid:\n",
    "    est_score = []\n",
    "    for train, val in KFold(n_splits=3, shuffle=True).split(X, y):\n",
    "        my_clf = MyGradientBoostingClassifier(n_estimators=best_params['n_estimators'],\n",
    "                                              loss=best_params['loss'],\n",
    "                                              learning_rate=best_params['learning_rate'],\n",
    "                                              colsample=cols)\n",
    "        my_clf.fit(X[train], y[train])\n",
    "        est_score.append(accuracy_score(y[val], my_clf.predict(X[val])))\n",
    "    print(np.mean(est_score))\n",
    "    score.append(np.mean(est_score))\n",
    "\n",
    "best_params['colsample'] = grid[np.argmax(score)]"
   ]
  },
  {
   "cell_type": "code",
   "execution_count": 13,
   "metadata": {
    "colab": {
     "base_uri": "https://localhost:8080/"
    },
    "id": "LZ1p6zsBbMmC",
    "outputId": "380ae039-db5b-4e49-f8e8-c7f83b055ec3"
   },
   "outputs": [
    {
     "name": "stdout",
     "output_type": "stream",
     "text": [
      "0.8900193798449613\n",
      "0.8898740310077519\n",
      "0.8903100775193798\n",
      "0.8861918604651162\n"
     ]
    }
   ],
   "source": [
    "score = []\n",
    "grid = [1, 0.75, 0.5, 0.25]\n",
    "for subs in grid:\n",
    "    est_score = []\n",
    "    for train, val in KFold(n_splits=3, shuffle=True).split(X, y):\n",
    "        my_clf = MyGradientBoostingClassifier(n_estimators=best_params['n_estimators'],\n",
    "                                              loss=best_params['loss'],\n",
    "                                              learning_rate=best_params['learning_rate'],\n",
    "                                              colsample=best_params['colsample'],\n",
    "                                              subsample=subs)\n",
    "        my_clf.fit(X[train], y[train])\n",
    "        est_score.append(accuracy_score(y[val], my_clf.predict(X[val])))\n",
    "    print(np.mean(est_score))\n",
    "    score.append(np.mean(est_score))\n",
    "\n",
    "best_params['subsample'] = grid[np.argmax(score)]"
   ]
  },
  {
   "cell_type": "code",
   "execution_count": 2,
   "metadata": {
    "colab": {
     "base_uri": "https://localhost:8080/"
    },
    "id": "BeHNAC2HcPx9",
    "outputId": "a80df85c-1d44-421f-b222-d4e7c3c963a3"
   },
   "outputs": [
    {
     "data": {
      "text/plain": [
       "{'colsample': 0.75,\n",
       " 'learning_rate': 0.01,\n",
       " 'loss': 'MSE',\n",
       " 'n_estimators': 130,\n",
       " 'subsample': 0.5}"
      ]
     },
     "execution_count": 2,
     "metadata": {},
     "output_type": "execute_result"
    }
   ],
   "source": [
    "best_params"
   ]
  },
  {
   "cell_type": "markdown",
   "metadata": {
    "id": "YrAF6c5BW_9j"
   },
   "source": [
    "## BooBag BagBoo (1 балл)\n",
    "\n"
   ]
  },
  {
   "cell_type": "markdown",
   "metadata": {
    "id": "53VPfcfCW_9j"
   },
   "source": [
    "Попробуем объединить бустинг и бэгинг. Давайте\n",
    "\n",
    "1) в качестве базовой модели брать не дерево решений, а случайный лес (из sklearn)\n",
    "\n",
    "2) обучать N бустингов на бустрапированной выборке, а затем предикт усреднять"
   ]
  },
  {
   "cell_type": "markdown",
   "metadata": {
    "id": "uSiRYczeW_9k"
   },
   "source": [
    "Попробуйте обе этих стратегии на данных из прошлого задания. Получилось ли улучшить качество? Почему?"
   ]
  },
  {
   "cell_type": "code",
   "execution_count": 15,
   "metadata": {
    "collapsed": true,
    "id": "gys0K1utW_9k"
   },
   "outputs": [],
   "source": [
    "from sklearn.ensemble import RandomForestRegressor"
   ]
  },
  {
   "cell_type": "code",
   "execution_count": 32,
   "metadata": {
    "colab": {
     "base_uri": "https://localhost:8080/"
    },
    "id": "DePlICVTW_9l",
    "outputId": "a1266f11-3627-4b43-8eae-5591952035fe"
   },
   "outputs": [
    {
     "data": {
      "text/plain": [
       "0.8874354005167958"
      ]
     },
     "execution_count": 32,
     "metadata": {
      "tags": []
     },
     "output_type": "execute_result"
    }
   ],
   "source": [
    "X_train, X_test, y_train, y_test = train_test_split(X, y, test_size=0.3, random_state=42)\n",
    "\n",
    "my_clf = MyGradientBoostingClassifier(**best_params)\n",
    "my_clf.fit(X_train, y_train, base_model=RandomForestRegressor)\n",
    "accuracy_score(y_test, my_clf.predict(X_test))"
   ]
  },
  {
   "cell_type": "code",
   "execution_count": 17,
   "metadata": {
    "colab": {
     "base_uri": "https://localhost:8080/"
    },
    "id": "uYDBjqUSdwcF",
    "outputId": "79527dfb-7026-40b6-a5fe-4f6d9f9c402f"
   },
   "outputs": [
    {
     "data": {
      "text/plain": [
       "0.8347868217054264"
      ]
     },
     "execution_count": 17,
     "metadata": {
      "tags": []
     },
     "output_type": "execute_result"
    }
   ],
   "source": [
    "N = 100\n",
    "pred = np.zeros(y_test.shape)\n",
    "for i in range(N):\n",
    "    objects = np.random.randint(0, X_train.shape[0], size=X_train.shape[0] // N)\n",
    "    my_clf = MyGradientBoostingClassifier(**best_params)\n",
    "    my_clf.fit(X_train[objects], y_train[objects])\n",
    "    pred += my_clf.predict(X_test)\n",
    "accuracy_score(y_test, (pred / N)  >= 0.5)"
   ]
  },
  {
   "cell_type": "markdown",
   "metadata": {
    "id": "Rav2XrbVfDVH"
   },
   "source": [
    "Значительно улучшить качество с помощью первой модели (BooBag) не получилось. Хотя случайный лес хорошо подстраивается под выборку, но все равно скор примерно такой же, как и для классификатора с base_model=DecisionTreeClassifier. Получается, что обобщающая способность обычных деревьев не хуже, а в данном случае может и лучше, чем случайного леса. \n",
    "\n",
    "Вторая модель (BagBoo) показала скор хуже, чем один классификатор, так как каждую итерацию мы обучаем одну и ту же модель только на разных данных (возможно, ей недостаточно данных для того, чтобы подстроиться под всю выборку)."
   ]
  },
  {
   "cell_type": "markdown",
   "metadata": {
    "collapsed": true,
    "id": "31G41CtYW_9l"
   },
   "source": [
    "## Умная инициализация (1 балл)\n",
    "\n",
    "Попробуйте брать в качестве инициализации бустинга не константу, а какой-то алгоритм и уже от его предикта стартовать итерации бустинга. Попробуйте разные модели из sklearn: линейные модели, рандом форест, svm..\n",
    "\n",
    "Получилось ли улучшить качество? Почему?\n",
    "\n"
   ]
  },
  {
   "cell_type": "code",
   "execution_count": 18,
   "metadata": {
    "collapsed": true,
    "id": "W0yBg2fNW_9l"
   },
   "outputs": [],
   "source": [
    "from sklearn.linear_model import LinearRegression, SGDClassifier\n",
    "from sklearn.svm import LinearSVC\n",
    "from sklearn.tree import DecisionTreeClassifier\n",
    "from sklearn.neighbors import KNeighborsClassifier"
   ]
  },
  {
   "cell_type": "code",
   "execution_count": 19,
   "metadata": {
    "colab": {
     "base_uri": "https://localhost:8080/"
    },
    "id": "sxeC7r0jW_9l",
    "outputId": "2702eba2-2a43-4526-f9c7-a6bf7817de21"
   },
   "outputs": [
    {
     "data": {
      "text/plain": [
       "0.8968023255813954"
      ]
     },
     "execution_count": 19,
     "metadata": {
      "tags": []
     },
     "output_type": "execute_result"
    }
   ],
   "source": [
    "my_clf = MyGradientBoostingClassifier(**best_params)\n",
    "my_clf.fit(X_train, y_train, init_model=LinearRegression)\n",
    "accuracy_score(y_test, my_clf.predict(X_test))"
   ]
  },
  {
   "cell_type": "code",
   "execution_count": 20,
   "metadata": {
    "colab": {
     "base_uri": "https://localhost:8080/"
    },
    "id": "lgUv2Y0OfUn9",
    "outputId": "7f61bdd4-7c2f-406e-b632-357c544e783e"
   },
   "outputs": [
    {
     "data": {
      "text/plain": [
       "0.8864664082687338"
      ]
     },
     "execution_count": 20,
     "metadata": {
      "tags": []
     },
     "output_type": "execute_result"
    }
   ],
   "source": [
    "my_clf = MyGradientBoostingClassifier(**best_params)\n",
    "my_clf.fit(X_train, y_train, init_model=SGDClassifier)\n",
    "accuracy_score(y_test, my_clf.predict(X_test))"
   ]
  },
  {
   "cell_type": "code",
   "execution_count": 21,
   "metadata": {
    "colab": {
     "base_uri": "https://localhost:8080/"
    },
    "id": "3XUg3voDfUdV",
    "outputId": "47e68643-91ae-426c-9be0-d9058d29703d"
   },
   "outputs": [
    {
     "name": "stderr",
     "output_type": "stream",
     "text": [
      "/usr/local/lib/python3.7/dist-packages/sklearn/svm/_base.py:947: ConvergenceWarning: Liblinear failed to converge, increase the number of iterations.\n",
      "  \"the number of iterations.\", ConvergenceWarning)\n"
     ]
    },
    {
     "data": {
      "text/plain": [
       "0.8662790697674418"
      ]
     },
     "execution_count": 21,
     "metadata": {
      "tags": []
     },
     "output_type": "execute_result"
    }
   ],
   "source": [
    "my_clf = MyGradientBoostingClassifier(**best_params)\n",
    "my_clf.fit(X_train, y_train, init_model=LinearSVC)\n",
    "accuracy_score(y_test, my_clf.predict(X_test))"
   ]
  },
  {
   "cell_type": "code",
   "execution_count": 22,
   "metadata": {
    "colab": {
     "base_uri": "https://localhost:8080/"
    },
    "id": "gsqjHP5AfUUS",
    "outputId": "215517b1-b60e-4c82-e6cc-fa275244ed40"
   },
   "outputs": [
    {
     "data": {
      "text/plain": [
       "0.8229974160206718"
      ]
     },
     "execution_count": 22,
     "metadata": {
      "tags": []
     },
     "output_type": "execute_result"
    }
   ],
   "source": [
    "my_clf = MyGradientBoostingClassifier(**best_params)\n",
    "my_clf.fit(X_train, y_train, init_model=DecisionTreeClassifier)\n",
    "accuracy_score(y_test, my_clf.predict(X_test))"
   ]
  },
  {
   "cell_type": "code",
   "execution_count": 30,
   "metadata": {
    "colab": {
     "base_uri": "https://localhost:8080/"
    },
    "id": "mM0_a4g7fUEu",
    "outputId": "20ee2b72-7102-45b0-9e12-70f1eef07390"
   },
   "outputs": [
    {
     "data": {
      "text/plain": [
       "0.6356589147286822"
      ]
     },
     "execution_count": 30,
     "metadata": {
      "tags": []
     },
     "output_type": "execute_result"
    }
   ],
   "source": [
    "my_clf = MyGradientBoostingClassifier(**best_params)\n",
    "my_clf.fit(X_train, y_train, init_model=KNeighborsClassifier)\n",
    "accuracy_score(y_test, my_clf.predict(X_test))"
   ]
  },
  {
   "cell_type": "markdown",
   "metadata": {
    "id": "skYTqTGXfntp"
   },
   "source": [
    "Получилось улучшить предикт в случае, если использовать LinearRegression. Остальные классификаторы не дали значимого прироста.\n",
    "\n",
    "Инициализирующая модель существенно влияет на качество предсказания, так как разные модели по-разному описывают данные. Если начать с предикта, который лучше всего подходит для наших данных, то можно быстро прийти к высокому скору на валидации (LinearRegression), и наоборот, плохое начальное предсказание может даже не привести к желаемому качеству модели (например, KNeighborsClassifier)."
   ]
  },
  {
   "cell_type": "markdown",
   "metadata": {
    "id": "3wxZTh0pW_9m"
   },
   "source": [
    "## Фидбек (бесценно)"
   ]
  },
  {
   "cell_type": "markdown",
   "metadata": {
    "id": "2AUPYrF6W_9m"
   },
   "source": [
    "* Какие аспекты обучения  ансамблей Вам показались непонятными? Какое место стоит дополнительно объяснить?"
   ]
  },
  {
   "cell_type": "markdown",
   "metadata": {
    "id": "aXeqp1etW_9m"
   },
   "source": [
    "### Ваш ответ здесь"
   ]
  },
  {
   "cell_type": "markdown",
   "metadata": {
    "id": "Z3MGdS_AW_9m"
   },
   "source": [
    "* Здесь Вы можете оставить отзыв о этой домашней работе или о всем курсе."
   ]
  },
  {
   "cell_type": "markdown",
   "metadata": {
    "id": "k5sosTZlW_9n"
   },
   "source": [
    "### ВАШ ОТЗЫВ ЗДЕСЬ\n",
    "\n"
   ]
  },
  {
   "cell_type": "code",
   "execution_count": 23,
   "metadata": {
    "collapsed": true,
    "id": "Er-SBs_QW_9n"
   },
   "outputs": [],
   "source": []
  }
 ],
 "metadata": {
  "anaconda-cloud": {},
  "colab": {
   "name": "hw4.ipynb",
   "provenance": []
  },
  "kernelspec": {
   "display_name": "Python 3",
   "language": "python",
   "name": "python3"
  },
  "language_info": {
   "codemirror_mode": {
    "name": "ipython",
    "version": 3
   },
   "file_extension": ".py",
   "mimetype": "text/x-python",
   "name": "python",
   "nbconvert_exporter": "python",
   "pygments_lexer": "ipython3",
   "version": "3.8.8"
  }
 },
 "nbformat": 4,
 "nbformat_minor": 1
}
